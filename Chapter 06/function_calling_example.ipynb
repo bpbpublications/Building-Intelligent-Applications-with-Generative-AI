{
 "cells": [
  {
   "cell_type": "code",
   "execution_count": 1,
   "id": "952fda06",
   "metadata": {},
   "outputs": [
    {
     "name": "stdout",
     "output_type": "stream",
     "text": [
      "Defaulting to user installation because normal site-packages is not writeable\n",
      "Requirement already satisfied: openai in c:\\users\\lenovo\\appdata\\roaming\\python\\python311\\site-packages (0.28.1)\n",
      "Requirement already satisfied: requests>=2.20 in c:\\programdata\\anaconda3\\lib\\site-packages (from openai) (2.31.0)\n",
      "Requirement already satisfied: tqdm in c:\\programdata\\anaconda3\\lib\\site-packages (from openai) (4.65.0)\n",
      "Requirement already satisfied: aiohttp in c:\\programdata\\anaconda3\\lib\\site-packages (from openai) (3.8.3)\n",
      "Requirement already satisfied: charset-normalizer<4,>=2 in c:\\programdata\\anaconda3\\lib\\site-packages (from requests>=2.20->openai) (2.0.4)\n",
      "Requirement already satisfied: idna<4,>=2.5 in c:\\programdata\\anaconda3\\lib\\site-packages (from requests>=2.20->openai) (3.4)\n",
      "Requirement already satisfied: urllib3<3,>=1.21.1 in c:\\programdata\\anaconda3\\lib\\site-packages (from requests>=2.20->openai) (1.26.16)\n",
      "Requirement already satisfied: certifi>=2017.4.17 in c:\\programdata\\anaconda3\\lib\\site-packages (from requests>=2.20->openai) (2023.7.22)\n",
      "Requirement already satisfied: attrs>=17.3.0 in c:\\programdata\\anaconda3\\lib\\site-packages (from aiohttp->openai) (22.1.0)\n",
      "Requirement already satisfied: multidict<7.0,>=4.5 in c:\\programdata\\anaconda3\\lib\\site-packages (from aiohttp->openai) (6.0.2)\n",
      "Requirement already satisfied: async-timeout<5.0,>=4.0.0a3 in c:\\programdata\\anaconda3\\lib\\site-packages (from aiohttp->openai) (4.0.2)\n",
      "Requirement already satisfied: yarl<2.0,>=1.0 in c:\\programdata\\anaconda3\\lib\\site-packages (from aiohttp->openai) (1.8.1)\n",
      "Requirement already satisfied: frozenlist>=1.1.1 in c:\\programdata\\anaconda3\\lib\\site-packages (from aiohttp->openai) (1.3.3)\n",
      "Requirement already satisfied: aiosignal>=1.1.2 in c:\\programdata\\anaconda3\\lib\\site-packages (from aiohttp->openai) (1.2.0)\n",
      "Requirement already satisfied: colorama in c:\\programdata\\anaconda3\\lib\\site-packages (from tqdm->openai) (0.4.6)\n",
      "Defaulting to user installation because normal site-packages is not writeable\n",
      "Requirement already satisfied: python-dotenv in c:\\programdata\\anaconda3\\lib\\site-packages (0.21.0)\n"
     ]
    }
   ],
   "source": [
    "!pip install openai\n",
    "!pip install python-dotenv"
   ]
  },
  {
   "cell_type": "code",
   "execution_count": 2,
   "id": "0589f2c9",
   "metadata": {},
   "outputs": [],
   "source": [
    "import os\n",
    "import openai\n",
    "import sys\n",
    "import json"
   ]
  },
  {
   "cell_type": "code",
   "execution_count": 3,
   "id": "14541c01",
   "metadata": {},
   "outputs": [],
   "source": [
    "## OpenAI API Key setup\n",
    "from dotenv import load_dotenv, find_dotenv\n",
    "_ = load_dotenv(find_dotenv()) # read local .env file\n",
    "\n",
    "openai.api_key  = os.environ['OPENAI_API_KEY']"
   ]
  },
  {
   "cell_type": "code",
   "execution_count": 16,
   "id": "e00c059e",
   "metadata": {},
   "outputs": [],
   "source": [
    "inp2 = \"Schedule a meeting with Steven (steven@anymail.com) for next Tuesday at 4pm to discuss the new OpenAI functions feature\""
   ]
  },
  {
   "cell_type": "code",
   "execution_count": 4,
   "id": "2d902032",
   "metadata": {},
   "outputs": [],
   "source": [
    "inp = \"Email Anya (anya@gmail.com) to see if she wants to get coffee next Friday at 12pm\""
   ]
  },
  {
   "cell_type": "code",
   "execution_count": 17,
   "id": "694bec1f",
   "metadata": {},
   "outputs": [],
   "source": [
    "functions = [\n",
    "    {\n",
    "        \"name\": \"send_email\",\n",
    "        \"description\": \"Extract the first name, email address, day, time, and the body details for sending an email.\",\n",
    "        \"parameters\": {\n",
    "            \"type\": \"object\",\n",
    "            \"properties\": {\n",
    "                \"firstname\": {\n",
    "                    \"type\": \"string\",\n",
    "                    \"description\": \"Email recipients first name.\"\n",
    "                },\n",
    "                \"to_email\": {\n",
    "                    \"type\": \"string\",\n",
    "                    \"description\": \"Email recipients email address.\"\n",
    "                },\n",
    "                \"day\": {\n",
    "                    \"type\": \"string\",\n",
    "                    \"description\": \"The day of the appointment. If no day provided, do not include.\"\n",
    "                },\n",
    "                \"time\": {\n",
    "                    \"type\": \"string\",\n",
    "                    \"description\": \"The day of the appointment. If no time provided, do not include.\"\n",
    "                },\n",
    "                \"body\": {\n",
    "                    \"type\": \"string\",\n",
    "                    \"description\": \"A summary of the contents of the email.\"\n",
    "                }\n",
    "            }\n",
    "        }\n",
    "    }\n",
    "]"
   ]
  },
  {
   "cell_type": "code",
   "execution_count": 18,
   "id": "3ba5c3d4",
   "metadata": {},
   "outputs": [
    {
     "name": "stdout",
     "output_type": "stream",
     "text": [
      "{\n",
      "  \"id\": \"chatcmpl-8SPTUljNIGCjJB3eBkKI6GW98e1gl\",\n",
      "  \"object\": \"chat.completion\",\n",
      "  \"created\": 1701781800,\n",
      "  \"model\": \"gpt-4-0613\",\n",
      "  \"choices\": [\n",
      "    {\n",
      "      \"index\": 0,\n",
      "      \"message\": {\n",
      "        \"role\": \"assistant\",\n",
      "        \"content\": null,\n",
      "        \"function_call\": {\n",
      "          \"name\": \"send_email\",\n",
      "          \"arguments\": \"{\\n  \\\"firstname\\\": \\\"Steven\\\",\\n  \\\"to_email\\\": \\\"steven@anymail.com\\\",\\n  \\\"day\\\": \\\"next Tuesday\\\",\\n  \\\"time\\\": \\\"4pm\\\",\\n  \\\"body\\\": \\\"Discuss the new OpenAI functions feature\\\"\\n}\"\n",
      "        }\n",
      "      },\n",
      "      \"finish_reason\": \"stop\"\n",
      "    }\n",
      "  ],\n",
      "  \"usage\": {\n",
      "    \"prompt_tokens\": 190,\n",
      "    \"completion_tokens\": 52,\n",
      "    \"total_tokens\": 242\n",
      "  },\n",
      "  \"system_fingerprint\": null\n",
      "}\n"
     ]
    }
   ],
   "source": [
    "response = openai.ChatCompletion.create(\n",
    "    model = \"gpt-4-0613\",\n",
    "    messages = [\n",
    "        {\n",
    "            \"role\": \"system\",\n",
    "            \"content\": \"You are a helpful assistant.\"\n",
    "        },\n",
    "        {\n",
    "            \"role\": \"user\",\n",
    "            \"content\": f\"Here is the message request: {inp}. Extract the name, email address, day, time, and message body\"\n",
    "        }\n",
    "    ],\n",
    "    functions = functions,\n",
    "    function_call = {\n",
    "        \"name\": \"send_email\"\n",
    "    }\n",
    ")\n",
    "\n",
    "print(response)"
   ]
  },
  {
   "cell_type": "code",
   "execution_count": 19,
   "id": "617921ce",
   "metadata": {},
   "outputs": [],
   "source": [
    "arguments = response[\"choices\"][0][\"message\"][\"function_call\"][\"arguments\"]"
   ]
  },
  {
   "cell_type": "code",
   "execution_count": 20,
   "id": "3b72f06d",
   "metadata": {},
   "outputs": [
    {
     "name": "stdout",
     "output_type": "stream",
     "text": [
      "{'firstname': 'Steven', 'to_email': 'steven@anymail.com', 'day': 'next Tuesday', 'time': '4pm', 'body': 'Discuss the new OpenAI functions feature'}\n"
     ]
    }
   ],
   "source": [
    "json_obj = json.loads(arguments)\n",
    "print(json_obj)"
   ]
  },
  {
   "cell_type": "code",
   "execution_count": 21,
   "id": "b6a41e2d",
   "metadata": {},
   "outputs": [
    {
     "name": "stdout",
     "output_type": "stream",
     "text": [
      "Steven\n",
      "steven@anymail.com\n",
      "next Tuesday\n",
      "4pm\n",
      "Discuss the new OpenAI functions feature\n"
     ]
    }
   ],
   "source": [
    "print(json_obj[\"firstname\"])\n",
    "print(json_obj[\"to_email\"])\n",
    "print(json_obj[\"day\"])\n",
    "print(json_obj[\"time\"])\n",
    "print(json_obj[\"body\"])"
   ]
  },
  {
   "cell_type": "code",
   "execution_count": null,
   "id": "912513fd",
   "metadata": {},
   "outputs": [],
   "source": []
  }
 ],
 "metadata": {
  "kernelspec": {
   "display_name": "Python 3 (ipykernel)",
   "language": "python",
   "name": "python3"
  },
  "language_info": {
   "codemirror_mode": {
    "name": "ipython",
    "version": 3
   },
   "file_extension": ".py",
   "mimetype": "text/x-python",
   "name": "python",
   "nbconvert_exporter": "python",
   "pygments_lexer": "ipython3",
   "version": "3.11.4"
  }
 },
 "nbformat": 4,
 "nbformat_minor": 5
}
