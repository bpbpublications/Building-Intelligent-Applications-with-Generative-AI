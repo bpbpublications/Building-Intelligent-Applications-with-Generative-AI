{
 "cells": [
  {
   "cell_type": "code",
   "execution_count": 1,
   "id": "952fda06",
   "metadata": {},
   "outputs": [
    {
     "name": "stdout",
     "output_type": "stream",
     "text": [
      "Defaulting to user installation because normal site-packages is not writeable\n",
      "Requirement already satisfied: openai in c:\\users\\lenovo\\appdata\\roaming\\python\\python311\\site-packages (0.28.1)\n",
      "Requirement already satisfied: requests>=2.20 in c:\\programdata\\anaconda3\\lib\\site-packages (from openai) (2.31.0)\n",
      "Requirement already satisfied: tqdm in c:\\programdata\\anaconda3\\lib\\site-packages (from openai) (4.65.0)\n",
      "Requirement already satisfied: aiohttp in c:\\programdata\\anaconda3\\lib\\site-packages (from openai) (3.8.3)\n",
      "Requirement already satisfied: charset-normalizer<4,>=2 in c:\\programdata\\anaconda3\\lib\\site-packages (from requests>=2.20->openai) (2.0.4)\n",
      "Requirement already satisfied: idna<4,>=2.5 in c:\\programdata\\anaconda3\\lib\\site-packages (from requests>=2.20->openai) (3.4)\n",
      "Requirement already satisfied: urllib3<3,>=1.21.1 in c:\\programdata\\anaconda3\\lib\\site-packages (from requests>=2.20->openai) (1.26.16)\n",
      "Requirement already satisfied: certifi>=2017.4.17 in c:\\programdata\\anaconda3\\lib\\site-packages (from requests>=2.20->openai) (2023.7.22)\n",
      "Requirement already satisfied: attrs>=17.3.0 in c:\\programdata\\anaconda3\\lib\\site-packages (from aiohttp->openai) (22.1.0)\n",
      "Requirement already satisfied: multidict<7.0,>=4.5 in c:\\programdata\\anaconda3\\lib\\site-packages (from aiohttp->openai) (6.0.2)\n",
      "Requirement already satisfied: async-timeout<5.0,>=4.0.0a3 in c:\\programdata\\anaconda3\\lib\\site-packages (from aiohttp->openai) (4.0.2)\n",
      "Requirement already satisfied: yarl<2.0,>=1.0 in c:\\programdata\\anaconda3\\lib\\site-packages (from aiohttp->openai) (1.8.1)\n",
      "Requirement already satisfied: frozenlist>=1.1.1 in c:\\programdata\\anaconda3\\lib\\site-packages (from aiohttp->openai) (1.3.3)\n",
      "Requirement already satisfied: aiosignal>=1.1.2 in c:\\programdata\\anaconda3\\lib\\site-packages (from aiohttp->openai) (1.2.0)\n",
      "Requirement already satisfied: colorama in c:\\programdata\\anaconda3\\lib\\site-packages (from tqdm->openai) (0.4.6)\n",
      "Defaulting to user installation because normal site-packages is not writeable\n",
      "Requirement already satisfied: python-dotenv in c:\\programdata\\anaconda3\\lib\\site-packages (0.21.0)\n"
     ]
    }
   ],
   "source": [
    "!pip install openai\n",
    "!pip install python-dotenv"
   ]
  },
  {
   "cell_type": "code",
   "execution_count": 2,
   "id": "0589f2c9",
   "metadata": {},
   "outputs": [],
   "source": [
    "import os\n",
    "import openai\n",
    "import sys\n",
    "import json"
   ]
  },
  {
   "cell_type": "code",
   "execution_count": 3,
   "id": "14541c01",
   "metadata": {},
   "outputs": [],
   "source": [
    "## OpenAI API Key setup\n",
    "from dotenv import load_dotenv, find_dotenv\n",
    "_ = load_dotenv(find_dotenv()) # read local .env file\n",
    "\n",
    "openai.api_key  = os.environ['OPENAI_API_KEY']"
   ]
  },
  {
   "cell_type": "code",
   "execution_count": 4,
   "id": "588a884c",
   "metadata": {},
   "outputs": [],
   "source": [
    "article = f\"\"\"We previously communicated to developers that gpt-3.5-turbo-0301, gpt-4-0314 and gpt-4-32k-0314 models were \\\n",
    "scheduled for sunset on Sept 13, 2023. After reviewing feedback from customers and our community, \\\n",
    "we are extending support for those models until at least June 13, 2024. \\\n",
    "When we release new model versions, our top priority is to make newer models smarter across the board. \\\n",
    "We are targeting improvements on a large number of axes, such as instruction following, factual accuracy, \\\n",
    "and refusal behavior. For instance, the gpt-4-0613 model introduced last month resulted in significant \\\n",
    "improvement on calling functions. \\\n",
    "We look at a large number of evaluation metrics to determine if a new model should be released. \\\n",
    "While the majority of metrics have improved, there may be some tasks where the performance gets worse. \\\n",
    "This is why we allow API users to pin the model version. For example, you can use gpt-4-0314 \\\n",
    "instead of the generic gpt-4, which points to the latest model version. Each individually pinned model \\\n",
    "is stable, meaning that we won’t make changes that impact the outputs.\"\"\""
   ]
  },
  {
   "cell_type": "code",
   "execution_count": 5,
   "id": "331a295f",
   "metadata": {},
   "outputs": [],
   "source": [
    "functions = [\n",
    "    {\n",
    "        \"name\": \"show_summary\",\n",
    "        \"description\": \"shows the title and summary of some text.\",\n",
    "        \"parameters\": {\n",
    "            \"type\": \"object\",\n",
    "            \"properties\": {\n",
    "                \"title\": {\n",
    "                    \"type\": \"string\",\n",
    "                    \"description\": \"Title of the text output\"\n",
    "                },\n",
    "                \"summary\": {\n",
    "                    \"type\": \"string\",\n",
    "                    \"description\": \"Summary of the text input\"\n",
    "                }\n",
    "            }\n",
    "        }\n",
    "    }\n",
    "]"
   ]
  },
  {
   "cell_type": "code",
   "execution_count": 7,
   "id": "0c5d299e",
   "metadata": {},
   "outputs": [
    {
     "name": "stdout",
     "output_type": "stream",
     "text": [
      "{\n",
      "  \"id\": \"chatcmpl-8SNK907YzLquupELgMAjZHH5j14cK\",\n",
      "  \"object\": \"chat.completion\",\n",
      "  \"created\": 1701773533,\n",
      "  \"model\": \"gpt-4-0613\",\n",
      "  \"choices\": [\n",
      "    {\n",
      "      \"index\": 0,\n",
      "      \"message\": {\n",
      "        \"role\": \"assistant\",\n",
      "        \"content\": null,\n",
      "        \"function_call\": {\n",
      "          \"name\": \"show_summary\",\n",
      "          \"arguments\": \"{\\n\\\"title\\\": \\\"Extension of Support for GPT Models and Introduction of GPT-4-0613\\\",\\n\\\"summary\\\": \\\"The article announces the extension of support for gpt-3.5-turbo-0301, gpt-4-0314, and gpt-4-32k-0314 models until June 13, 2024, extending the original sunset date of Sept 13, 2023. This decision came after consideration of customer feedback. The company's priority when releasing new models is to enhance them across multiple aspects such as instruction-following and factual accuracy. For example, gpt-4-0613, introduced last month, substantially improved function-calling. Despite general improvements, performance degradation in some tasks is acknowledged, leading to the option for API users to pin model versions.\\\"\\n}\"\n",
      "        }\n",
      "      },\n",
      "      \"finish_reason\": \"stop\"\n",
      "    }\n",
      "  ],\n",
      "  \"usage\": {\n",
      "    \"prompt_tokens\": 335,\n",
      "    \"completion_tokens\": 169,\n",
      "    \"total_tokens\": 504\n",
      "  },\n",
      "  \"system_fingerprint\": null\n",
      "}\n"
     ]
    }
   ],
   "source": [
    "response = openai.ChatCompletion.create(\n",
    "    model = \"gpt-4-0613\",\n",
    "    messages = [\n",
    "        {\n",
    "            \"role\": \"system\",\n",
    "            \"content\": \"You are a helpful assistant.\"\n",
    "        },\n",
    "        {\n",
    "            \"role\": \"user\",\n",
    "            \"content\": f\"Here is an article: {article}. Please return a title and a summary.\"\n",
    "        }\n",
    "    ],\n",
    "    functions = functions,\n",
    "    function_call = {\n",
    "        \"name\": \"show_summary\"\n",
    "    }\n",
    ")\n",
    "\n",
    "print(response)"
   ]
  },
  {
   "cell_type": "code",
   "execution_count": 12,
   "id": "0068cd31",
   "metadata": {},
   "outputs": [
    {
     "name": "stdout",
     "output_type": "stream",
     "text": [
      "Extension of Support for GPT Models and Introduction of GPT-4-0613\n",
      "The article announces the extension of support for gpt-3.5-turbo-0301, gpt-4-0314, and gpt-4-32k-0314 models until June 13, 2024, extending the original sunset date of Sept 13, 2023. This decision came after consideration of customer feedback. The company's priority when releasing new models is to enhance them across multiple aspects such as instruction-following and factual accuracy. For example, gpt-4-0613, introduced last month, substantially improved function-calling. Despite general improvements, performance degradation in some tasks is acknowledged, leading to the option for API users to pin model versions.\n"
     ]
    }
   ],
   "source": [
    "arguments = response[\"choices\"][0][\"message\"][\"function_call\"][\"arguments\"]\n",
    "json_obj = json.loads(arguments)\n",
    "print(json_obj[\"title\"])\n",
    "print(json_obj[\"summary\"])"
   ]
  },
  {
   "cell_type": "code",
   "execution_count": null,
   "id": "2377fa64",
   "metadata": {},
   "outputs": [],
   "source": []
  }
 ],
 "metadata": {
  "kernelspec": {
   "display_name": "Python 3 (ipykernel)",
   "language": "python",
   "name": "python3"
  },
  "language_info": {
   "codemirror_mode": {
    "name": "ipython",
    "version": 3
   },
   "file_extension": ".py",
   "mimetype": "text/x-python",
   "name": "python",
   "nbconvert_exporter": "python",
   "pygments_lexer": "ipython3",
   "version": "3.11.4"
  }
 },
 "nbformat": 4,
 "nbformat_minor": 5
}
