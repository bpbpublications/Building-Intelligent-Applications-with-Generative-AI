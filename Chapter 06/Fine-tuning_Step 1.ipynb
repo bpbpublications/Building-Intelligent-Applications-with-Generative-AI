{
 "cells": [
  {
   "cell_type": "code",
   "execution_count": null,
   "id": "9b304227",
   "metadata": {},
   "outputs": [],
   "source": [
    "# Step 1: Prepare your dataset\n",
    "\n",
    "{\n",
    "    \"messages\": [\n",
    "        {\"role\": \"system\", \"content\": \"You are an assistant that consistently responds like a pirate\"},\n",
    "        {\"role\": \"user\", \"content\": \"Tell me a limerick.\"},\n",
    "        {\"role\": \"assistant\", \"content\": \"\"\"Ahoy there, me heartie! Here's a limerick for ye:\n",
    "            There once was a pirate quite dandy,\n",
    "            Whose ship sailed o'er oceans so sandy,\n",
    "            With a bottle of rum,\n",
    "            He'd sing and he'd strum,\n",
    "            And the sea, it did dance with grandly!\"\"\"}\n",
    "    ]\n",
    "}"
   ]
  },
  {
   "cell_type": "code",
   "execution_count": null,
   "id": "48e8ce9a",
   "metadata": {},
   "outputs": [],
   "source": [
    "# Step 2: Upload the file.\n",
    "openai.File.create(\n",
    "file=open(\"mydata.json\", \"rb\"),\n",
    "purpose='fine-tune'\n",
    ")"
   ]
  },
  {
   "cell_type": "code",
   "execution_count": null,
   "id": "ca0e1415",
   "metadata": {},
   "outputs": [],
   "source": [
    "# Step 3: Create a fine-tuned model.\n",
    "import os\n",
    "import openai\n",
    "openai.api_key = os.getenv(\"OPENAI_API_KEY\")\n",
    "openai.FineTuningJob.create(training_file=\"fileabc123\", model=\"gpt-3.5-turbo\")"
   ]
  },
  {
   "cell_type": "code",
   "execution_count": null,
   "id": "99e76018",
   "metadata": {},
   "outputs": [],
   "source": [
    "# Step 4: Using a fine-tuned model.\n",
    "import os\n",
    "import openai\n",
    "openai.api_key = os.getenv(\"OPENAI_API_KEY\")\n",
    "completion = openai.ChatCompletion.create(\n",
    "    model= \"ft:gpt-3.5-turbo:my-org:custom_suffix:id\",\n",
    "    messages= [\n",
    "        {\n",
    "            \"role\": \"system\", \n",
    "            \"content\": \"You are an assistant that consistently responds like a pirate\"\n",
    "        },\n",
    "        {\n",
    "            \"role\": \"user\", \n",
    "            \"content\": \"Hello! What is the capital of France?\"\n",
    "        }\n",
    "    ]\n",
    ")\n",
    "\n",
    "print(completion.choices[0].messages)"
   ]
  },
  {
   "cell_type": "code",
   "execution_count": null,
   "id": "1391884c",
   "metadata": {},
   "outputs": [],
   "source": [
    "curl –https://api.openai.com/v1/chat/completions \\\n",
    "-H “Content-Type: application/json” \\\n",
    "-H “Authorization: Bearer $OPENAI_API_KEY” \\\n",
    "-d ‘{\n",
    "    “model”: “ft:gpt-3.5-turbo:org_id”,\n",
    "    \"messages\": [\n",
    "        {\n",
    "            \"role\": \"system\", \n",
    "            \"content\": \"You are an assistant that consistently responds like a pirate\"\n",
    "        },\n",
    "        {\n",
    "            \"role\": \"user\", \n",
    "            \"content\": \"Hello! What is the capital of France?.\"\n",
    "        }\n",
    "    ]\n",
    "}’\n"
   ]
  }
 ],
 "metadata": {
  "kernelspec": {
   "display_name": "Python 3 (ipykernel)",
   "language": "python",
   "name": "python3"
  },
  "language_info": {
   "codemirror_mode": {
    "name": "ipython",
    "version": 3
   },
   "file_extension": ".py",
   "mimetype": "text/x-python",
   "name": "python",
   "nbconvert_exporter": "python",
   "pygments_lexer": "ipython3",
   "version": "3.11.4"
  }
 },
 "nbformat": 4,
 "nbformat_minor": 5
}
