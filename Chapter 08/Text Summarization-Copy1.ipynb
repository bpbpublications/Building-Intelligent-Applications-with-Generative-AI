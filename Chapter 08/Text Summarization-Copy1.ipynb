{
 "cells": [
  {
   "cell_type": "code",
   "execution_count": 1,
   "id": "d6c13efa",
   "metadata": {},
   "outputs": [
    {
     "name": "stderr",
     "output_type": "stream",
     "text": [
      "c:\\Users\\LENOVO\\.conda\\envs\\gradio-env\\Lib\\site-packages\\tqdm\\auto.py:21: TqdmWarning: IProgress not found. Please update jupyter and ipywidgets. See https://ipywidgets.readthedocs.io/en/stable/user_install.html\n",
      "  from .autonotebook import tqdm as notebook_tqdm\n"
     ]
    }
   ],
   "source": [
    "import os\n",
    "import io\n",
    "from IPython.display import Image, display, HTML\n",
    "from PIL import Image\n",
    "import base64 \n",
    "from transformers import pipeline, AutoTokenizer"
   ]
  },
  {
   "cell_type": "code",
   "execution_count": 2,
   "id": "f8ed515b",
   "metadata": {},
   "outputs": [],
   "source": [
    "# load the summarization pipeline\n",
    "summarizer = pipeline (\"summarization\", model=\"sshleifer/distilbart-cnn-12-6\", tokenizer=\"sshleifer/distilbart-cnn-12-6\")\n",
    "tokenizer = AutoTokenizer.from_pretrained(\"sshleifer/distilbart-cnn-12-6\")"
   ]
  },
  {
   "cell_type": "code",
   "execution_count": 3,
   "id": "091f7487",
   "metadata": {},
   "outputs": [],
   "source": [
    "import json\n",
    "\n",
    "def summarize_text(input_text):\n",
    "    \"\"\"Summarizes the given input text.\n",
    "\n",
    "    Args:\n",
    "        input_text (str): The text to be summarized.\n",
    "\n",
    "    Returns:\n",
    "        dict: A dictionary containing the summary under the 'summary' key.\n",
    "    \"\"\"\n",
    "\n",
    "    # Tokenize and truncate input if necessary\n",
    "    max_length = tokenizer.model_max_length\n",
    "    inputs = tokenizer(input_text, truncation=True, max_length=max_length, return_tensors=\"pt\")\n",
    "\n",
    "    # Generate summary\n",
    "    summary_ids = summarizer.model.generate(inputs.input_ids, max_length=50, min_length=10, do_sample=False)\n",
    "    summary_text = tokenizer.decode(summary_ids[0], skip_special_tokens=True)\n",
    "\n",
    "    # Return summary as a dictionary\n",
    "    return {\"summary\": summary_text}"
   ]
  },
  {
   "cell_type": "code",
   "execution_count": 4,
   "id": "2b5ffb3e",
   "metadata": {},
   "outputs": [
    {
     "data": {
      "text/plain": [
       "{'summary': ' The Eiffel Tower is 324 metres (1,063 ft) tall, about the same height as an 81-storey building. It is the second tallest free-standing structure in France after the Millau Viaduct'}"
      ]
     },
     "execution_count": 4,
     "metadata": {},
     "output_type": "execute_result"
    }
   ],
   "source": [
    "text = ('''The tower is 324 metres (1,063 ft) tall, about the same height\n",
    "        as an 81-storey building, and the tallest structure in Paris. \n",
    "        Its base is square, measuring 125 metres (410 ft) on each side. \n",
    "        During its construction, the Eiffel Tower surpassed the Washington \n",
    "        Monument to become the tallest man-made structure in the world,\n",
    "        a title it held for 41 years until the Chrysler Building\n",
    "        in New York City was finished in 1930. It was the first structure \n",
    "        to reach a height of 300 metres. Due to the addition of a broadcasting \n",
    "        aerial at the top of the tower in 1957, it is now taller than the \n",
    "        Chrysler Building by 5.2 metres (17 ft). Excluding transmitters, the \n",
    "        Eiffel Tower is the second tallest free-standing structure in France \n",
    "        after the Millau Viaduct.''')\n",
    "\n",
    "## generate the text summary\n",
    "summarize_text(text)"
   ]
  },
  {
   "cell_type": "code",
   "execution_count": 5,
   "id": "2137891e",
   "metadata": {},
   "outputs": [
    {
     "name": "stdout",
     "output_type": "stream",
     "text": [
      "Running on local URL:  http://127.0.0.1:53040\n",
      "Running on public URL: https://c9798809c074dc5b7c.gradio.live\n",
      "\n",
      "This share link expires in 72 hours. For free permanent hosting and GPU upgrades (NEW!), check out Spaces: https://huggingface.co/spaces\n"
     ]
    },
    {
     "data": {
      "text/html": [
       "<div><iframe src=\"https://c9798809c074dc5b7c.gradio.live\" width=\"100%\" height=\"500\" allow=\"autoplay; camera; microphone; clipboard-read; clipboard-write;\" frameborder=\"0\" allowfullscreen></iframe></div>"
      ],
      "text/plain": [
       "<IPython.core.display.HTML object>"
      ]
     },
     "metadata": {},
     "output_type": "display_data"
    },
    {
     "data": {
      "text/plain": []
     },
     "execution_count": 5,
     "metadata": {},
     "output_type": "execute_result"
    }
   ],
   "source": [
    "import gradio as gr\n",
    "def generate_summary(input):\n",
    "    output = summarize_text(input)\n",
    "    return output\n",
    "    \n",
    "gr.close_all()\n",
    "demo = gr.Interface(fn=generate_summary, \n",
    "                        inputs=[gr.Textbox(label=\"Text to summarize\", lines=6)], \n",
    "                        outputs=[gr.Textbox(label=\"Summary\", lines=3)],\n",
    "                        title=\"Text Summarization\",\n",
    "                        description=\"Summarize text using the 'shleifer/distilbart-cnn-12-6' language model.\",                    \n",
    "                    )\n",
    "demo.launch(share=True, server_port=int(os.environ['PORT']))"
   ]
  },
  {
   "cell_type": "code",
   "execution_count": null,
   "id": "7e25f8b1",
   "metadata": {},
   "outputs": [],
   "source": [
    "import gradio as gr\n",
    "\n",
    "def summarize(input):\n",
    "    output = get_completion(input)\n",
    "    return output[0]['summary_text']\n",
    "\n",
    "gr.close_all()\n",
    "demo = gr.Interface(fn=summarize, \n",
    "                    inputs=[gr.Textbox(label=\"Text to summarize\", lines=6)],\n",
    "                    outputs=[gr.Textbox(label=\"Result\", lines=3)],\n",
    "                    title=\"Text summarization with distilbart-cnn\",\n",
    "                    description=\"Summarize any text using the `shleifer/distilbart-cnn-12-6` model under the hood!\"\n",
    "                   )\n",
    "demo.launch(share=True, server_port=int(os.environ['PORT2']))"
   ]
  }
 ],
 "metadata": {
  "kernelspec": {
   "display_name": "Python 3 (ipykernel)",
   "language": "python",
   "name": "python3"
  },
  "language_info": {
   "codemirror_mode": {
    "name": "ipython",
    "version": 3
   },
   "file_extension": ".py",
   "mimetype": "text/x-python",
   "name": "python",
   "nbconvert_exporter": "python",
   "pygments_lexer": "ipython3",
   "version": "3.11.5"
  }
 },
 "nbformat": 4,
 "nbformat_minor": 5
}
