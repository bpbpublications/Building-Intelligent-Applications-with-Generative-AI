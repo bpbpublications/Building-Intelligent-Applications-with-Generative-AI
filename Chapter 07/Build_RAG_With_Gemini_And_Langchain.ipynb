{
 "cells": [
  {
   "cell_type": "code",
   "execution_count": null,
   "metadata": {
    "colab": {
     "base_uri": "https://localhost:8080/"
    },
    "id": "wgALz5M7I9dQ",
    "outputId": "fdbd47ab-edad-468a-f2ab-c0756c79de20"
   },
   "outputs": [
    {
     "name": "stdout",
     "output_type": "stream",
     "text": [
      "\u001b[?25l     \u001b[90m━━━━━━━━━━━━━━━━━━━━━━━━━━━━━━━━━━━━━━━━\u001b[0m \u001b[32m0.0/509.0 kB\u001b[0m \u001b[31m?\u001b[0m eta \u001b[36m-:--:--\u001b[0m\r",
      "\u001b[2K     \u001b[91m━━━━━━━━━\u001b[0m\u001b[91m╸\u001b[0m\u001b[90m━━━━━━━━━━━━━━━━━━━━━━━━━━━━━━\u001b[0m \u001b[32m122.9/509.0 kB\u001b[0m \u001b[31m3.9 MB/s\u001b[0m eta \u001b[36m0:00:01\u001b[0m\r",
      "\u001b[2K     \u001b[91m━━━━━━━━━━━━━━━━━━━━━━━━━━━━━━━━━━━━━━━\u001b[0m\u001b[90m╺\u001b[0m \u001b[32m501.8/509.0 kB\u001b[0m \u001b[31m8.1 MB/s\u001b[0m eta \u001b[36m0:00:01\u001b[0m\r",
      "\u001b[2K     \u001b[90m━━━━━━━━━━━━━━━━━━━━━━━━━━━━━━━━━━━━━━━━\u001b[0m \u001b[32m509.0/509.0 kB\u001b[0m \u001b[31m7.0 MB/s\u001b[0m eta \u001b[36m0:00:00\u001b[0m\n",
      "\u001b[2K     \u001b[90m━━━━━━━━━━━━━━━━━━━━━━━━━━━━━━━━━━━━━━━━\u001b[0m \u001b[32m278.2/278.2 kB\u001b[0m \u001b[31m10.7 MB/s\u001b[0m eta \u001b[36m0:00:00\u001b[0m\n",
      "\u001b[2K     \u001b[90m━━━━━━━━━━━━━━━━━━━━━━━━━━━━━━━━━━━━━━━━\u001b[0m \u001b[32m802.4/802.4 kB\u001b[0m \u001b[31m15.2 MB/s\u001b[0m eta \u001b[36m0:00:00\u001b[0m\n",
      "\u001b[2K     \u001b[90m━━━━━━━━━━━━━━━━━━━━━━━━━━━━━━━━━━━━━━━━\u001b[0m \u001b[32m218.9/218.9 kB\u001b[0m \u001b[31m14.2 MB/s\u001b[0m eta \u001b[36m0:00:00\u001b[0m\n",
      "\u001b[2K     \u001b[90m━━━━━━━━━━━━━━━━━━━━━━━━━━━━━━━━━━━━━━━━\u001b[0m \u001b[32m2.4/2.4 MB\u001b[0m \u001b[31m25.5 MB/s\u001b[0m eta \u001b[36m0:00:00\u001b[0m\n",
      "\u001b[2K     \u001b[90m━━━━━━━━━━━━━━━━━━━━━━━━━━━━━━━━━━━━━━━━\u001b[0m \u001b[32m92.0/92.0 kB\u001b[0m \u001b[31m9.1 MB/s\u001b[0m eta \u001b[36m0:00:00\u001b[0m\n",
      "\u001b[2K     \u001b[90m━━━━━━━━━━━━━━━━━━━━━━━━━━━━━━━━━━━━━━━━\u001b[0m \u001b[32m60.5/60.5 kB\u001b[0m \u001b[31m6.9 MB/s\u001b[0m eta \u001b[36m0:00:00\u001b[0m\n",
      "\u001b[2K     \u001b[90m━━━━━━━━━━━━━━━━━━━━━━━━━━━━━━━━━━━━━━━━\u001b[0m \u001b[32m40.6/40.6 kB\u001b[0m \u001b[31m5.5 MB/s\u001b[0m eta \u001b[36m0:00:00\u001b[0m\n",
      "\u001b[2K     \u001b[90m━━━━━━━━━━━━━━━━━━━━━━━━━━━━━━━━━━━━━━━━\u001b[0m \u001b[32m5.4/5.4 MB\u001b[0m \u001b[31m44.0 MB/s\u001b[0m eta \u001b[36m0:00:00\u001b[0m\n",
      "\u001b[2K     \u001b[90m━━━━━━━━━━━━━━━━━━━━━━━━━━━━━━━━━━━━━━━━\u001b[0m \u001b[32m6.4/6.4 MB\u001b[0m \u001b[31m64.4 MB/s\u001b[0m eta \u001b[36m0:00:00\u001b[0m\n",
      "\u001b[2K     \u001b[90m━━━━━━━━━━━━━━━━━━━━━━━━━━━━━━━━━━━━━━━━\u001b[0m \u001b[32m57.9/57.9 kB\u001b[0m \u001b[31m7.2 MB/s\u001b[0m eta \u001b[36m0:00:00\u001b[0m\n",
      "\u001b[2K     \u001b[90m━━━━━━━━━━━━━━━━━━━━━━━━━━━━━━━━━━━━━━━━\u001b[0m \u001b[32m105.6/105.6 kB\u001b[0m \u001b[31m9.3 MB/s\u001b[0m eta \u001b[36m0:00:00\u001b[0m\n",
      "\u001b[2K     \u001b[90m━━━━━━━━━━━━━━━━━━━━━━━━━━━━━━━━━━━━━━━━\u001b[0m \u001b[32m67.3/67.3 kB\u001b[0m \u001b[31m7.9 MB/s\u001b[0m eta \u001b[36m0:00:00\u001b[0m\n",
      "\u001b[?25h  Installing build dependencies ... \u001b[?25l\u001b[?25hdone\n",
      "  Getting requirements to build wheel ... \u001b[?25l\u001b[?25hdone\n",
      "  Preparing metadata (pyproject.toml) ... \u001b[?25l\u001b[?25hdone\n",
      "\u001b[2K     \u001b[90m━━━━━━━━━━━━━━━━━━━━━━━━━━━━━━━━━━━━━━━━\u001b[0m \u001b[32m698.9/698.9 kB\u001b[0m \u001b[31m54.0 MB/s\u001b[0m eta \u001b[36m0:00:00\u001b[0m\n",
      "\u001b[2K     \u001b[90m━━━━━━━━━━━━━━━━━━━━━━━━━━━━━━━━━━━━━━━━\u001b[0m \u001b[32m1.6/1.6 MB\u001b[0m \u001b[31m62.4 MB/s\u001b[0m eta \u001b[36m0:00:00\u001b[0m\n",
      "\u001b[2K     \u001b[90m━━━━━━━━━━━━━━━━━━━━━━━━━━━━━━━━━━━━━━━━\u001b[0m \u001b[32m67.6/67.6 kB\u001b[0m \u001b[31m10.1 MB/s\u001b[0m eta \u001b[36m0:00:00\u001b[0m\n",
      "\u001b[2K     \u001b[90m━━━━━━━━━━━━━━━━━━━━━━━━━━━━━━━━━━━━━━━━\u001b[0m \u001b[32m1.6/1.6 MB\u001b[0m \u001b[31m65.4 MB/s\u001b[0m eta \u001b[36m0:00:00\u001b[0m\n",
      "\u001b[2K     \u001b[90m━━━━━━━━━━━━━━━━━━━━━━━━━━━━━━━━━━━━━━━━\u001b[0m \u001b[32m49.2/49.2 kB\u001b[0m \u001b[31m7.2 MB/s\u001b[0m eta \u001b[36m0:00:00\u001b[0m\n",
      "\u001b[2K     \u001b[90m━━━━━━━━━━━━━━━━━━━━━━━━━━━━━━━━━━━━━━━━\u001b[0m \u001b[32m49.4/49.4 kB\u001b[0m \u001b[31m8.0 MB/s\u001b[0m eta \u001b[36m0:00:00\u001b[0m\n",
      "\u001b[2K     \u001b[90m━━━━━━━━━━━━━━━━━━━━━━━━━━━━━━━━━━━━━━━━\u001b[0m \u001b[32m71.1/71.1 kB\u001b[0m \u001b[31m11.6 MB/s\u001b[0m eta \u001b[36m0:00:00\u001b[0m\n",
      "\u001b[2K     \u001b[90m━━━━━━━━━━━━━━━━━━━━━━━━━━━━━━━━━━━━━━━━\u001b[0m \u001b[32m46.0/46.0 kB\u001b[0m \u001b[31m7.6 MB/s\u001b[0m eta \u001b[36m0:00:00\u001b[0m\n",
      "\u001b[2K     \u001b[90m━━━━━━━━━━━━━━━━━━━━━━━━━━━━━━━━━━━━━━━━\u001b[0m \u001b[32m50.8/50.8 kB\u001b[0m \u001b[31m8.5 MB/s\u001b[0m eta \u001b[36m0:00:00\u001b[0m\n",
      "\u001b[2K     \u001b[90m━━━━━━━━━━━━━━━━━━━━━━━━━━━━━━━━━━━━━━━━\u001b[0m \u001b[32m58.3/58.3 kB\u001b[0m \u001b[31m9.7 MB/s\u001b[0m eta \u001b[36m0:00:00\u001b[0m\n",
      "\u001b[2K     \u001b[90m━━━━━━━━━━━━━━━━━━━━━━━━━━━━━━━━━━━━━━━━\u001b[0m \u001b[32m341.4/341.4 kB\u001b[0m \u001b[31m41.3 MB/s\u001b[0m eta \u001b[36m0:00:00\u001b[0m\n",
      "\u001b[2K     \u001b[90m━━━━━━━━━━━━━━━━━━━━━━━━━━━━━━━━━━━━━━━━\u001b[0m \u001b[32m3.4/3.4 MB\u001b[0m \u001b[31m95.1 MB/s\u001b[0m eta \u001b[36m0:00:00\u001b[0m\n",
      "\u001b[2K     \u001b[90m━━━━━━━━━━━━━━━━━━━━━━━━━━━━━━━━━━━━━━━━\u001b[0m \u001b[32m1.3/1.3 MB\u001b[0m \u001b[31m90.4 MB/s\u001b[0m eta \u001b[36m0:00:00\u001b[0m\n",
      "\u001b[2K     \u001b[90m━━━━━━━━━━━━━━━━━━━━━━━━━━━━━━━━━━━━━━━━\u001b[0m \u001b[32m130.2/130.2 kB\u001b[0m \u001b[31m20.3 MB/s\u001b[0m eta \u001b[36m0:00:00\u001b[0m\n",
      "\u001b[2K     \u001b[90m━━━━━━━━━━━━━━━━━━━━━━━━━━━━━━━━━━━━━━━━\u001b[0m \u001b[32m86.8/86.8 kB\u001b[0m \u001b[31m13.8 MB/s\u001b[0m eta \u001b[36m0:00:00\u001b[0m\n",
      "\u001b[?25h  Building wheel for pypika (pyproject.toml) ... \u001b[?25l\u001b[?25hdone\n",
      "\u001b[31mERROR: pip's dependency resolver does not currently take into account all the packages that are installed. This behaviour is the source of the following dependency conflicts.\n",
      "lida 0.0.10 requires kaleido, which is not installed.\n",
      "lida 0.0.10 requires python-multipart, which is not installed.\n",
      "tensorflow-probability 0.22.0 requires typing-extensions<4.6.0, but you have typing-extensions 4.9.0 which is incompatible.\u001b[0m\u001b[31m\n",
      "\u001b[0m"
     ]
    }
   ],
   "source": [
    "!pip install -q --upgrade google-generativeai langchain-google-genai chromadb pypdf langchain"
   ]
  },
  {
   "cell_type": "code",
   "execution_count": null,
   "metadata": {
    "id": "ELCq2M4XJ467"
   },
   "outputs": [],
   "source": [
    "from IPython.display import display\n",
    "from IPython.display import Markdown\n",
    "import textwrap\n",
    "\n",
    "def to_markdown(text):\n",
    "  text = text.replace('•', '  *')\n",
    "  return Markdown(textwrap.indent(text, '> ', predicate=lambda _: True))"
   ]
  },
  {
   "cell_type": "code",
   "execution_count": null,
   "metadata": {
    "id": "CHCjBuPHJ-JU"
   },
   "outputs": [],
   "source": [
    "import google.generativeai as genai\n",
    "from google.colab import userdata"
   ]
  },
  {
   "cell_type": "code",
   "execution_count": null,
   "metadata": {
    "colab": {
     "base_uri": "https://localhost:8080/"
    },
    "id": "1cb7x-g7KBBw",
    "outputId": "a928ed7f-8c84-4da6-91b8-6ba3d9322c57"
   },
   "outputs": [
    {
     "data": {
      "text/plain": [
       " genai.GenerativeModel(\n",
       "   model_name='models/gemini-pro',\n",
       "   generation_config={}.\n",
       "   safety_settings={}\n",
       ")"
      ]
     },
     "execution_count": 4,
     "metadata": {},
     "output_type": "execute_result"
    }
   ],
   "source": [
    "import os\n",
    "GOOGLE_API_KEY=userdata.get('GOOGLE_API_KEY')\n",
    "genai.configure(api_key=GOOGLE_API_KEY)\n",
    "model = genai.GenerativeModel(model_name = \"gemini-pro\")\n",
    "model"
   ]
  },
  {
   "cell_type": "markdown",
   "metadata": {
    "id": "3NOFOt74X2Gd"
   },
   "source": [
    "### Text Generation"
   ]
  },
  {
   "cell_type": "code",
   "execution_count": null,
   "metadata": {
    "id": "o254P2HjSZAz"
   },
   "outputs": [],
   "source": [
    "response = model.generate_content(\"What is LangChain?\")"
   ]
  },
  {
   "cell_type": "code",
   "execution_count": null,
   "metadata": {
    "id": "R-2GbIa-KaUb"
   },
   "outputs": [],
   "source": [
    "response = model.generate_content(\"What are the usecases of LLMs?\")"
   ]
  },
  {
   "cell_type": "code",
   "execution_count": null,
   "metadata": {
    "colab": {
     "base_uri": "https://localhost:8080/",
     "height": 514
    },
    "id": "i9TTvRUfKmBg",
    "outputId": "5efc572f-00af-4a6c-9235-3c955d6ca77e"
   },
   "outputs": [
    {
     "data": {
      "text/markdown": [
       "> LangChain is a blockchain-based platform that aims to revolutionize the language industry by creating a decentralized network of translation, localization, and language-related services. The platform utilizes blockchain technology to ensure transparency, efficiency, and security in language-related transactions. Here are key aspects of LangChain:\n",
       "> \n",
       "> 1. Decentralized Network: LangChain is built on a decentralized blockchain network, eliminating the need for intermediaries and centralized authorities. This allows for direct interaction between language service providers and clients, promoting transparency and fair competition.\n",
       "> \n",
       "> 2. Tokenomics: The platform utilizes its native token, LANG, as a medium of exchange for various language-related services and transactions. LANG enables seamless payments, incentivizes participation, and facilitates the creation and exchange of language assets.\n",
       "> \n",
       "> 3. Translation and Localization Services: LangChain offers a marketplace for translation and localization services. Translators, interpreters, and localization experts can offer their services directly to clients, ensuring competitive pricing and efficient project management.\n",
       "> \n",
       "> 4. Language Learning and Education: The platform provides a marketplace for language learning and teaching services. Educators, tutors, and language schools can offer courses, lessons, and educational materials, enabling learners to connect with language experts and improve their language skills.\n",
       "> \n",
       "> 5. Language Data and Analytics: LangChain facilitates the collection, curation, and analysis of language data. This data can be used for research, product development, and improving the accuracy and efficiency of language models and machine translation systems.\n",
       "> \n",
       "> 6. Language Asset Management: The platform enables users to tokenize and trade language assets, such as translations, glossaries, terminologies, and language models. This allows for the creation of new revenue streams and the efficient monetization of language assets.\n",
       "> \n",
       "> 7. Dispute Resolution: LangChain incorporates a decentralized dispute resolution mechanism to address any disputes or disagreements that may arise between service providers and clients. This mechanism ensures fair and transparent resolution of issues.\n",
       "> \n",
       "> 8. Community Governance: The LangChain community plays a vital role in platform governance. LANG token holders can vote on proposals, participate in decision-making, and contribute to the platform's growth and development.\n",
       "> \n",
       "> Overall, LangChain aims to foster a global language ecosystem that empowers language professionals, facilitates transparent transactions, and promotes innovation in the language industry. By utilizing blockchain technology, the platform seeks to create a more inclusive, efficient, and secure environment for language services and language-related assets."
      ],
      "text/plain": [
       "<IPython.core.display.Markdown object>"
      ]
     },
     "execution_count": 6,
     "metadata": {},
     "output_type": "execute_result"
    }
   ],
   "source": [
    "to_markdown(response.text)"
   ]
  },
  {
   "cell_type": "markdown",
   "metadata": {
    "id": "-TbsjM7hK6PR"
   },
   "source": [
    "### Use LangChain to Access Gemini API"
   ]
  },
  {
   "cell_type": "code",
   "execution_count": null,
   "metadata": {
    "id": "WqdODsdLK8li"
   },
   "outputs": [],
   "source": [
    "from langchain_google_genai import ChatGoogleGenerativeAI"
   ]
  },
  {
   "cell_type": "code",
   "execution_count": null,
   "metadata": {
    "id": "vknP_oOWK-k7"
   },
   "outputs": [],
   "source": [
    "llm = ChatGoogleGenerativeAI(model=\"gemini-pro\",google_api_key=GOOGLE_API_KEY)"
   ]
  },
  {
   "cell_type": "code",
   "execution_count": null,
   "metadata": {
    "id": "1us0nfdESwj2"
   },
   "outputs": [],
   "source": [
    "result = llm.invoke(\"What are the three steps of career growth?\")"
   ]
  },
  {
   "cell_type": "code",
   "execution_count": null,
   "metadata": {
    "colab": {
     "base_uri": "https://localhost:8080/",
     "height": 440
    },
    "id": "ar8KNtZILE47",
    "outputId": "c39750ec-f3e7-4414-fb94-d1acce5338b8"
   },
   "outputs": [
    {
     "data": {
      "text/markdown": [
       "> 1. **Self-Assessment:**\n",
       "> \n",
       ">    - **Identify Strengths and Weaknesses:** Take a comprehensive look at your skills, knowledge, experience, and personal attributes. Understand what you excel at and what areas need improvement.\n",
       ">    - **Define Career Goals:** Clarify your long-term career aspirations and short-term objectives. Set specific, measurable, achievable, relevant, and time-bound (SMART) goals.\n",
       ">    - **Assess Current Situation:** Evaluate your current role, industry, and company to determine how well they align with your goals. Consider your satisfaction level, opportunities for advancement, and potential challenges.\n",
       "> \n",
       "> 2. **Skill Development:**\n",
       "> \n",
       ">    - **Continuous Learning:** Commit to ongoing learning to stay relevant and competitive in your field. Explore formal education, online courses, workshops, seminars, and industry publications.\n",
       ">    - **Enhance Existing Skills:** Strengthen your core competencies by practicing, taking relevant courses, and seeking feedback from supervisors and colleagues.\n",
       ">    - **Acquire New Skills:** Identify skills that will contribute to your career growth and pursue opportunities to develop them. This can involve learning a new language, software, or skill set.\n",
       "> \n",
       "> 3. **Career Advancement:**\n",
       "> \n",
       ">    - **Networking:** Establish and nurture professional relationships with colleagues, mentors, industry peers, and potential employers. Attend networking events, join professional associations, and utilize online platforms like LinkedIn.\n",
       ">    - **Seek New Opportunities:** Keep an eye out for promotions, new positions within your company, or job openings elsewhere that align with your career goals.\n",
       ">    - **Prepare for Career Transitions:** If necessary, be prepared to make career transitions to advance your growth. This could involve changing industries, roles, or even relocating."
      ],
      "text/plain": [
       "<IPython.core.display.Markdown object>"
      ]
     },
     "execution_count": 14,
     "metadata": {},
     "output_type": "execute_result"
    }
   ],
   "source": [
    "to_markdown(result.content)"
   ]
  },
  {
   "cell_type": "markdown",
   "metadata": {
    "id": "aVhA3f3GLlQZ"
   },
   "source": [
    "## Chat with Documents using RAG (Retreival Augment Generation)"
   ]
  },
  {
   "cell_type": "code",
   "execution_count": null,
   "metadata": {
    "id": "7EjS_0qMLwyb"
   },
   "outputs": [],
   "source": [
    "import warnings\n",
    "import pandas as pd\n",
    "from langchain import PromptTemplate\n",
    "from langchain.chains.question_answering import load_qa_chain\n",
    "from langchain.document_loaders import PyPDFLoader\n",
    "from langchain.text_splitter import RecursiveCharacterTextSplitter\n",
    "from langchain.vectorstores import Chroma\n",
    "from langchain.chains import RetrievalQA\n",
    "\n",
    "warnings.filterwarnings(\"ignore\")\n",
    "# restart python kernal if issues with langchain import."
   ]
  },
  {
   "cell_type": "code",
   "execution_count": null,
   "metadata": {
    "id": "oBDSBBNRNi8x"
   },
   "outputs": [],
   "source": [
    "from langchain_google_genai import ChatGoogleGenerativeAI"
   ]
  },
  {
   "cell_type": "code",
   "execution_count": null,
   "metadata": {
    "id": "HXXP0LCKN9pD"
   },
   "outputs": [],
   "source": [
    "model = ChatGoogleGenerativeAI(model=\"gemini-pro\",google_api_key=GOOGLE_API_KEY,\n",
    "                             temperature=0.2,convert_system_message_to_human=True)"
   ]
  },
  {
   "cell_type": "markdown",
   "metadata": {
    "id": "6fVI3d0BPaPQ"
   },
   "source": [
    "### Extract text from the PDF"
   ]
  },
  {
   "cell_type": "code",
   "execution_count": null,
   "metadata": {
    "colab": {
     "base_uri": "https://localhost:8080/"
    },
    "id": "5Kz7Ek2KPKSy",
    "outputId": "41322f8b-7789-4c4b-be30-182d63fc8ff3"
   },
   "outputs": [
    {
     "name": "stdout",
     "output_type": "stream",
     "text": [
      "PAGE 4Coding AI Is the New Literacy\n",
      "Today we take it for granted that many people know how to read and write. Someday, I hope, \n",
      "it will be just as common that people know how to write code, specifically for AI.\n",
      "Several hundred years ago, society didn’t view language literacy as a necessary skill. A small \n",
      "number of people learned to read and write, and everyone else let them do the reading and \n",
      "writing. It took centuries for literacy to spread, and now society is far richer for it.\n",
      "Words enable deep human-to-human communication. Code is the deepest form of human-to-\n",
      "machine communication. As machines become more central to daily life, that communication \n",
      "becomes ever more important.\n",
      "Traditional software engineering — writing programs that explicitly tell a computer sequences \n",
      "of steps to execute — has been the main path to code literacy. Many introductory programming \n",
      "classes use creating a video game or building a website as examples. But AI, machine learning, \n",
      "and data science offer a new paradigm in which computers extract knowledge from data. This \n",
      "technology offers an even better pathway to coding.\n",
      "Many Sundays, I buy a slice of pizza from my neighborhood pizza parlor. The gentleman \n",
      "behind the counter has little reason to learn how to build a video game or write his own \n",
      "website software (beyond personal growth and the pleasure of gaining a new skill).\n",
      "But AI and data science have great value even for a pizza maker. A linear regression model might \n",
      "enable him to better estimate demand so he can optimize the restaurant’s staffing and supply \n",
      "chain. He could better predict sales of Hawaiian pizza — my favorite! — so he could make more \n",
      "Hawaiian pies in advance and reduce the amount of time customers had to wait for them.\n",
      "Uses of AI and data science can be found in almost any situation that produces data.  Thus, \n",
      "a wide variety of professions will find more uses for custom AI applications and data-derived \n",
      "insights than for traditional software engineering. This makes literacy in AI-oriented coding \n",
      "even more valuable than traditional coding. It could enable countless individuals to harness \n",
      "data to make their lives richer.\n",
      "I hope the promise of building basic AI applications, even more than that of building basic \n",
      "traditional software, encourages more people to learn how to code. If society embraces this \n",
      "new form of literacy as it has the ability to read and write, we will all benefit.Introduction\n"
     ]
    }
   ],
   "source": [
    "pdf_loader = PyPDFLoader(\"/content/eBook_Andrew_Ng - How to Build a Career in AI.pdf\")\n",
    "pages = pdf_loader.load_and_split()\n",
    "print(pages[3].page_content)"
   ]
  },
  {
   "cell_type": "code",
   "execution_count": null,
   "metadata": {
    "colab": {
     "base_uri": "https://localhost:8080/"
    },
    "id": "c1nOlnQrZHau",
    "outputId": "f56e2d85-a79f-4a17-d3ad-0927cefdf35a"
   },
   "outputs": [
    {
     "data": {
      "text/plain": [
       "41"
      ]
     },
     "execution_count": 19,
     "metadata": {},
     "output_type": "execute_result"
    }
   ],
   "source": [
    "len(pages)"
   ]
  },
  {
   "cell_type": "markdown",
   "metadata": {
    "id": "QQ7OlzvWSRE1"
   },
   "source": [
    "### RAG Pipeline: Embedding + Gemini (LLM)"
   ]
  },
  {
   "cell_type": "code",
   "execution_count": null,
   "metadata": {
    "id": "xCLmdnHYdoVx"
   },
   "outputs": [],
   "source": [
    "from langchain_google_genai import GoogleGenerativeAIEmbeddings"
   ]
  },
  {
   "cell_type": "code",
   "execution_count": null,
   "metadata": {
    "colab": {
     "base_uri": "https://localhost:8080/"
    },
    "id": "5VCQ2XiUSTOl",
    "outputId": "c094b390-8627-4d31-d425-f80111950173"
   },
   "outputs": [
    {
     "data": {
      "text/plain": [
       "['PAGE 1Founder, DeepLearning.AICollected Insights\\nfrom Andrew Ng\\nHow to \\nBuild\\nYour\\nCareer\\nin AIA Simple Guide\\n\\nPAGE 2\"AI is the new \\nelectricity. It will \\ntransform and improve \\nall areas of human life.\"\\nAndrew Ng\\n\\nPAGE 3Table of \\nContentsIntroduction: Coding AI is the New Literacy.\\nChapter 1: Three Steps to Career Growth.\\nChapter 2: Learning Technical Skills for a \\nPromising AI Career.\\nChapter 3: Should You Learn Math to Get a Job \\nin AI?\\nChapter 4: Scoping Successful AI Projects.\\nChapter 5: Finding Projects that Complement \\nYour Career Goals.\\nChapter 6: Building a Portfolio of Projects that \\nShows Skill Progression.\\nChapter 7: A Simple Framework for Starting Your AI \\nJob Search.\\nChapter 8: Using Informational Interviews to Find \\nthe Right Job.\\nChapter 9: Finding the Right AI Job for You.\\nChapter 10: Keys to Building a Career in AI.\\nChapter 11: Overcoming Imposter Syndrome.\\nFinal Thoughts: Make Every Day Count.LEARNING\\nPROJECTS\\nJOB\\n\\nPAGE 4Coding AI Is the New Literacy\\nToday we take it for granted that many people know how to read and write. Someday, I hope, \\nit will be just as common that people know how to write code, specifically for AI.\\nSeveral hundred years ago, society didn’t view language literacy as a necessary skill. A small \\nnumber of people learned to read and write, and everyone else let them do the reading and \\nwriting. It took centuries for literacy to spread, and now society is far richer for it.\\nWords enable deep human-to-human communication. Code is the deepest form of human-to-\\nmachine communication. As machines become more central to daily life, that communication \\nbecomes ever more important.\\nTraditional software engineering — writing programs that explicitly tell a computer sequences \\nof steps to execute — has been the main path to code literacy. Many introductory programming \\nclasses use creating a video game or building a website as examples. But AI, machine learning, \\nand data science offer a new paradigm in which computers extract knowledge from data. This \\ntechnology offers an even better pathway to coding.\\nMany Sundays, I buy a slice of pizza from my neighborhood pizza parlor. The gentleman \\nbehind the counter has little reason to learn how to build a video game or write his own \\nwebsite software (beyond personal growth and the pleasure of gaining a new skill).\\nBut AI and data science have great value even for a pizza maker. A linear regression model might \\nenable him to better estimate demand so he can optimize the restaurant’s staffing and supply \\nchain. He could better predict sales of Hawaiian pizza — my favorite! — so he could make more \\nHawaiian pies in advance and reduce the amount of time customers had to wait for them.\\nUses of AI and data science can be found in almost any situation that produces data.  Thus, \\na wide variety of professions will find more uses for custom AI applications and data-derived \\ninsights than for traditional software engineering. This makes literacy in AI-oriented coding \\neven more valuable than traditional coding. It could enable countless individuals to harness \\ndata to make their lives richer.\\nI hope the promise of building basic AI applications, even more than that of building basic \\ntraditional software, encourages more people to learn how to code. If society embraces this \\nnew form of literacy as it has the ability to read and write, we will all benefit.Introduction\\n\\nPAGE 5Three Steps to \\nCareer GrowthCHAPTER 1\\n\\nPAGE 6The rapid rise of AI has led to a rapid rise in AI jobs, and many people are building exciting \\ncareers in this field. A career is a decades-long journey, and the path is not straightforward. \\nOver many years, I’ve been privileged to see thousands of students, as well as engineers in \\ncompanies large and small, navigate careers in AI.\\n \\nHere’s a framework for charting your own course.\\nLater, you will work \\non finding a job. \\nThroughout this \\nprocess, you’ll continue \\nto learn and work on \\nmeaningful projects. \\nChapters with the\\nfocus on a job search.Three key steps of career growth are learning foundational skills, working on projects (to \\ndeepen your skills, build a portfolio, and create impact), and finding a job. These steps stack \\non top of each other:Three Steps to Career Growth\\nLEARNING PROJECTS JOBCHAPTER 1\\nInitially, you \\nfocus on learning \\nfoundational skills. \\nChapters with the \\ncover topics about \\nlearning foundational \\ntechnical skills. After having gained \\nfoundational technical \\nskills, you will begin \\nworking on projects. \\nDuring this period, you’ll \\nalso keep learning. \\nChapters with the     \\nfocus on projects.\\n\\nPAGE 7These phases apply in a wide \\nrange of professions, but AI \\ninvolves unique elements.\\nFor example:Three Steps to Career Growth\\nAI is nascent, and many technologies are still evolving. While the \\nfoundations of machine learning and deep learning are maturing — \\nand coursework is an efficient way to master them — beyond these \\nfoundations, keeping up-to-date with changing technology is more \\nimportant in AI than fields that are more mature.Learning foundational skills is a career-long process:\\nThis can make it challenging to find a suitable project, estimate the project’s \\ntimeline and return on investment, and set expectations. In addition, the \\nhighly iterative nature of AI projects leads to special challenges in project \\nmanagement: How can you come up with a plan for building a system \\nwhen you don’t know in advance how long it will take to achieve the target \\naccuracy? Even after the system has hit the target, further iteration may \\nbe necessary to address post-deployment drift.Working on projects often means collaborating with \\nstakeholders who lack expertise in AI:\\nWhile searching for a job in AI can be similar to searching for a job in \\nother sectors, there are also important differences. Many companies are \\nstill trying to figure out which AI skills they need, and how to hire people \\nwho have them. Things you’ve worked on may be significantly different \\nthan anything your interviewer has seen, and you’re more likely to have to \\neducate potential employers about some elements of your work.Inconsistent opinions on AI skills and jobs roles: CHAPTER 1\\nAs you go through each step, you should also build a supportive community. Having friends and \\nallies who can help you — and who you strive to help — makes the path easier. This is true whether \\nyou’re taking your first steps or you’ve been on the journey for years.LEARNING\\nPROJECTS\\nJOB\\n\\nPAGE 8Learning Technical \\nSkills for a Promising \\nAI CareerCHAPTER 2\\nLEARNING\\n\\nPAGE 9In the previous chapter, I introduced three key steps for building a career in AI: learning \\nfoundational technical skills, working on projects, and finding a job, all of which is supported \\nby being part of a community. In this chapter, I’d like to dive more deeply into the first step: \\nlearning foundational skills.\\nMore research papers have been published on AI than anyone can read in a lifetime. So, when \\nlearning, it’s critical to prioritize topic selection. I believe the most important topics for a technical \\ncareer in machine learning are:\\nFoundational machine learning skills: For example, it’s important to understand models such \\nas linear regression, logistic regression, neural networks, decision trees, clustering, and anomaly \\ndetection. Beyond specific models, it’s even more important to understand the core concepts \\nbehind how and why machine learning works, such as bias/variance, cost functions, regularization, \\noptimization algorithms, and error analysis.\\nDeep learning: This has become such a large fraction of machine learning that it’s hard to excel \\nin the field without some understanding of it! It’s valuable to know the basics of neural networks, \\npractical skills for making them work (such as hyperparameter tuning), convolutional networks, \\nsequence models, and transformers.\\nSoftware development: While you can get a job and make huge contributions with only machine \\nlearning modeling skills, your job opportunities will increase if you can also write good software \\nto implement complex AI systems. These skills include programming fundamentals, data \\nstructures (especially those that relate to machine learning, such as data frames), algorithms \\n(including those related to databases and data manipulation), software design, familiarity with \\nPython, and familiarity with key libraries such as TensorFlow or PyTorch, and scikit-learn.Math relevant to machine learning:  Key areas include linear algebra (vectors, matrices, and various \\nmanipulations of them) as well as probability and statistics (including discrete and continuous \\nprobability, standard probability distributions, basic rules such as independence and Bayes’ rule, \\nand hypothesis testing). In addition, exploratory data analysis (EDA) — using visualizations and other \\nmethods to systematically explore a dataset — is an underrated skill. I’ve found EDA particularly \\nuseful in data-centric AI development, where analyzing errors and gaining insights can really help \\ndrive progress! Finally, a basic intuitive understanding of calculus will also help. The math needed \\nto do machine learning well has been changing. For instance, although some tasks require calculus, \\nimproved automatic differentiation software makes it possible to invent and implement new neural \\nnetwork architectures without doing any calculus. This was almost impossible a decade ago.Learning Technical Skills For a Promising AI Career CHAPTER 2',\n",
       " 'PAGE 10This is a lot to learn!\\nEven after you master everything on this list, I hope you’ll keep learning and continue to deepen \\nyour technical knowledge. I’ve known many machine learning engineers who benefitted from \\ndeeper skills in an application area such as natural language processing or computer vision, or in \\na technology area such as probabilistic graphical models or building scalable software systems.\\nHow do you gain these skills? There’s a lot of good content on the internet, and in theory, \\nreading dozens of web pages could work. But when the goal is deep understanding, reading \\ndisjointed web pages is inefficient because they tend to repeat each other, use inconsistent \\nterminology (which slows you down), vary in quality, and leave gaps. That’s why a good course \\n— in which a body of material has been organized into a coherent and logical form — is often the \\nmost time-efficient way to master a meaningful body of knowledge. When you’ve absorbed the \\nknowledge available in courses, you can switch over to research papers and other resources.\\nFinally, no one can cram everything they need to know over a weekend or even a month. Everyone I \\nknow who’s great at machine learning is a lifelong learner. Given how quickly our field is changing, \\nthere’s little choice but to keep learning if you want to keep up.\\nHow can you maintain a steady pace of learning for years? If you can cultivate the habit of \\nlearning a little bit every week, you can make significant progress with what feels like less effort.Learning Technical Skills For a Promising AI Career CHAPTER 2\\n\\nPAGE 11\\nThe Best Way to Build \\na New Habit\\nOne of my favorite books is BJ Fogg’s, Tiny Habits: The Small Changes That Change \\nEverything. Fogg explains that the best way to build a new habit is to start small \\nand succeed, rather than start  too big and fail. For example, rather than trying to \\nexercise for 30 minutes a day, he recommends aspiring to do just one push-up, and \\ndoing it consistently.\\nThis approach may be helpful to those of you who want to spend more time studying. \\nIf you start by holding yourself accountable for watching, say, 10 seconds of an \\neducational video every day — and you do so consistently — the habit of studying daily \\nwill grow naturally. Even if you learn nothing in that 10 seconds, you’re establishing the \\nhabit of studying a little every day. On some days, maybe you’ll end up studying for an \\nhour or longer.\\n\\nPAGE 12Should You \\nLearn Math to \\nGet a Job in AI? CHAPTER 3\\nLEARNING\\n\\nPAGE 13Should you Learn Math to Get a Job in AI? CHAPTER 3\\nIs math a foundational skill for AI? It’s always nice to know more math! But there’s so much to \\nlearn that, realistically, it’s necessary to prioritize. Here’s how you might go about strengthening \\nyour math background.\\nTo figure out what’s important to know, I find it useful to ask what you need to know to make \\nthe decisions required for the work you want to do. At DeepLearning.AI, we frequently ask, \\n“What does someone need to know to accomplish their goals?” The goal might be building a \\nmachine learning model, architecting a system, or passing a job interview.\\nUnderstanding the math behind algorithms you use is often helpful, since it enables you to \\ndebug them. But the depth of knowledge that’s useful changes over time. As machine learning \\ntechniques mature and become more reliable and turnkey, they require less debugging, and a \\nshallower understanding of the math involved may be sufficient to make them work.\\nFor instance, in an earlier era of machine learning, linear algebra libraries for solving linear \\nsystems of equations (for linear regression) were immature. I had to understand how these \\nlibraries worked so I could choose among different libraries and avoid numerical roundoff \\npitfalls. But this became less important as numerical linear algebra libraries matured.\\nDeep learning is still an emerging technology, so when you train a neural network and the \\noptimization algorithm struggles to converge, understanding the math behind gradient \\ndescent, momentum, and the Adam  optimization algorithm will help you make better decisions. \\nSimilarly, if your neural network does something funny — say, it makes bad predictions on \\nimages of a certain resolution, but not others — understanding the math behind neural network \\narchitectures puts you in a better position to figure out what to do.\\nOf course, I also encourage learning driven by curiosity. If something interests you, go ahead \\nand learn it regardless of how useful it might turn out to be!  Maybe this will lead to a creative \\nspark or technical breakthrough.How much math do you need to know to be a machine learning engineer?\\n\\nPAGE 14Scoping Successful \\nAI ProjectsCHAPTER 4\\nPROJECTS\\n\\nPAGE 15One of the most important skills of an AI architect is the ability to identify ideas that are worth \\nworking on. These next few chapters will discuss finding and working on projects so you can gain \\nexperience and build your portfolio. \\nOver the years, I’ve had fun applying machine learning to manufacturing, healthcare, climate \\nchange, agriculture, ecommerce, advertising, and other industries. How can someone who’s not \\nan expert in all these sectors find meaningful projects within them? Here are five steps to help \\nyou scope projects.\\nIdentify a business problem (not an AI problem). I like to find \\na domain expert and ask, “What are the top three things \\nthat you wish worked better? Why aren’t they working yet?” \\nFor example, if you want to apply AI to climate change, you \\nmight discover that power-grid operators can’t accurately \\npredict how much power intermittent sources like wind \\nand solar might generate in the future.\\nBrainstorm AI solutions. When I was younger, I used to \\nexecute on the first idea I was excited about. Sometimes \\nthis worked out okay, but sometimes I ended up missing \\nan even better idea that might not have taken any more \\neffort to build. Once you understand a problem, you can \\nbrainstorm potential solutions more efficiently. For instance, \\nto predict power generation from intermittent sources, we \\nmight consider using satellite imagery to map the locations \\nof wind turbines more accurately, using satellite imagery \\nto estimate the height and generation capacity of wind \\nturbines, or using weather data to better predict cloud cover \\nand thus solar irradiance. Sometimes there isn’t a good AI \\nsolution, and that’s okay too.Scoping Successful AI Projects CHAPTER 4\\nStep 1\\nStep 2\\n\\nPAGE 16Determine milestones. Once you’ve deemed a project sufficiently \\nvaluable, the next step is to determine the metrics to aim for. This \\nincludes both machine learning metrics (such as accuracy) and \\nbusiness metrics (such as revenue). Machine learning teams are often \\nmost comfortable with metrics that a learning algorithm can optimize. \\nBut we may need to stretch outside our comfort zone to come up \\nwith business metrics, such as those related to user engagement, \\nrevenue, and so on. Unfortunately, not every business problem can be \\nreduced to optimizing test set accuracy! If you aren’t able to determine \\nreasonable milestones, it may be a sign that you need to learn more \\nabout the problem. A quick proof of concept can help supply the \\nmissing perspective.Assess the feasibility and value of potential solutions. You can determine \\nwhether an approach is technically feasible by looking at published work, \\nwhat competitors have done, or perhaps building a quick proof of concept \\nimplementation. You can determine its value by consulting with domain \\nexperts (say, power-grid operators, who can advise on the utility of the \\npotential solutions mentioned above).\\nBudget for resources. Think through everything you’ll need to get the \\nproject done including data, personnel, time, and any integrations or \\nsupport you may need from other teams. For example, if you need funds \\nto purchase satellite imagery, make sure that’s in the budget.\\nWorking on projects is an iterative process. If, at any step, you find that the current direction is \\ninfeasible, return to an earlier step and proceed with your new understanding. Is there a domain \\nthat excites you where AI might make a difference? I hope these steps will guide you in exploring it \\nthrough project work — even if you don’t yet have deep expertise in that field. AI won’t solve every \\nproblem, but as a community, let’s look for ways to make a positive impact wherever we can.Scoping Successful AI Projects CHAPTER 4\\nStep 3\\nStep 4\\nStep 5\\n\\nPAGE 17Finding Projects that \\nComplement Your \\nCareer GoalsCHAPTER 5\\nPROJECTS',\n",
       " \"PAGE 17Finding Projects that \\nComplement Your \\nCareer GoalsCHAPTER 5\\nPROJECTS\\n\\nPAGE 18It goes without saying that we should only work on projects that are responsible, ethical, and \\nbeneficial to people. But those limits leave a large variety to choose from. In the previous chapter, \\nI wrote about how to identify and scope AI projects. This chapter and the next have a slightly \\ndifferent emphasis: picking and executing projects with an eye toward career development.\\nA fruitful career will include many projects, hopefully growing in scope, complexity, and impact \\nover time. Thus, it is fine to start small. Use early projects to learn and gradually step up to \\nbigger projects as your skills grow.\\nWhen you’re starting out, don’t expect others to hand great ideas or resources to you on a platter. \\nMany people start by working on small projects in their spare time. With initial successes — even \\nsmall ones — under your belt, your growing skills increase your ability to come up with better \\nideas, and it becomes easier to persuade others to help you step up to bigger projects.Finding Projects that Compliment Your Career Goals CHAPTER 5\\nJoin existing projects. If you find someone else with an idea, ask to join their project.\\nKeep reading and talking to people. I come up with new ideas whenever I spend a lot of \\ntime reading, taking courses, or talking with domain experts. I’m confident that you will, too.\\nFocus on an application area. Many researchers are trying to advance basic AI technology \\n— say, by inventing the next generation of transformers or further scaling up language \\nmodels — so, while this is an exciting direction, it is also very hard. But the variety of \\napplications to which machine learning has not yet been applied is vast! I’m fortunate to \\nhave been able to apply neural networks to everything from autonomous helicopter flight to \\nonline advertising, partly because I jumped in when relatively few people were working on \\nthose applications. If your company or school cares about a particular application, explore \\nthe possibilities for machine learning. That can give you a first look at a potentially creative \\napplication — one where you can do unique work — that no one else has done yet.✓\\n✓\\n✓What if you don’t have any project ideas?\\nHere are a few ways to generate them:\\n\\nPAGE 19Develop a side hustle. Even if you have a full-time job, a fun project that may or may not \\ndevelop into something bigger can stir the creative juices and strengthen bonds with \\ncollaborators. When I was a full-time professor, working on online education wasn’t part of \\nmy “job” (which was doing research and teaching classes). It was a fun hobby that I often \\nworked on out of passion for education. My early experiences in recording videos at home \\nhelped me later in working on online education in a more substantive way. Silicon Valley \\nabounds with stories of startups that started as side projects. As long as it doesn’t create a \\nconflict with your employer, these projects can be a stepping stone to something significant.\\nWill the project help you grow technically? Ideally, it should be challenging enough to \\nstretch your skills but not so hard that you have little chance of success. This will put you \\non a path toward mastering ever-greater technical complexity.\\nDo you have good teammates to work with? If not, are there people you can discuss things \\nwith? We learn a lot from the people around us, and good collaborators will have a huge \\nimpact on your growth.\\nCan it be a stepping stone?  If the project is successful, will its technical complexity and/\\nor business impact make it a meaningful stepping stone to larger projects? If the project \\nis bigger than those you’ve worked on before, there’s a good chance it could be such a \\nstepping stone.✓\\n✓\\n✓\\n✓Given a few project ideas, which one should you jump into? \\nHere’s a quick checklist of factors to consider:\\nFinally, avoid analysis paralysis. It doesn’t make sense to spend a month deciding whether to \\nwork on a project that would take a week to complete. You'll work on multiple projects over \\nthe course of your career, so you’ll have ample opportunity to refine your thinking on what’s \\nworthwhile. Given the huge number of possible AI projects, rather than the conventional “ready, \\naim, fire” approach, you can accelerate your progress with “ready, fire, aim.”Finding Projects that Compliment Your Career Goals CHAPTER 5\\n\\nPAGE 20Working on projects requires making tough choices about what to build and how to go \\nabout it. Here are two distinct styles:\\nSay you’ve built a customer-service chatbot for retailers, and you think it could help restaurants, \\ntoo. Should you take time to study the restaurant market before starting development, moving \\nslowly but cutting the risk of wasting time and resources? Or jump in right away, moving \\nquickly and accepting a higher risk of pivoting or failing?\\nBoth approaches have their advocates, and the best choice depends on the situation.\\nReady, Aim, Fire tends to be superior when the cost of execution is high and a study can shed \\nlight on how useful or valuable a project could be. For example, if you can brainstorm a few \\nother use cases (restaurants, airlines, telcos, and so on) and evaluate these cases to identify \\nthe most promising one, it may be worth taking the extra time before committing to a direction.\\nReady, Fire, Aim tends to be better if you can execute at low cost and, in doing so, determine \\nwhether the direction is feasible and discover tweaks that will make it work. For example, if \\nyou can build a prototype quickly to figure out if users want the product, and if canceling or \\npivoting after a small amount of work is acceptable, then it makes sense to consider jumping \\nin quickly. When taking a shot is inexpensive, it also makes sense to take many shots. In this \\ncase, the process is actually Ready, Fire, Aim, Fire, Aim, Fire, Aim, Fire. \\nAfter agreeing upon a project direction, when it comes to building a machine learning model \\nthat’s part of the product, I have a bias toward Ready, Fire, Aim. Building models is an iterative \\nprocess. For many applications, the cost of training and conducting error analysis is not \\nprohibitive. Furthermore, it is very difficult to carry out a study that will shed light on the \\nappropriate model, data, and hyperparameters. So it makes sense to build an end-to-end \\nsystem quickly and revise it until it works well.\\nBut when committing to a direction means making a costly investment or entering a one-\\nway door  (meaning a decision that’s hard to reverse), it’s often worth spending more time in \\nadvance to make sure it really is a good idea.Ready, Fire, Aim\\nReady, Aim, Fire: Plan carefully and carry out careful validation. Commit and \\nexecute only when you have a high degree of confidence in a direction.\\nReady, Fire, Aim: Jump into development and start executing. This allows you to \\ndiscover problems quickly and pivot along the way if necessary.✓\\n✓\\n\\nPAGE 21Building a Portfolio of \\nProjects that Shows \\nSkill Progression CHAPTER 6\\nPROJECTS\\n\\nPAGE 22Over the course of a career, you’re likely to work on projects in succession, each growing in \\nscope and complexity. For example:\\nThe first few projects might be narrowly scoped \\nhomework assignments with predetermined right \\nanswers. These are often great learning experiences!\\nEventually, you will gain enough skill to build projects in \\nwhich others see more tangible value. This opens the door \\nto more resources. For example, rather than developing \\nmachine learning systems in your spare time, it might \\nbecome part of your job, and you might gain access to more \\nequipment, compute time, labeling budget, or head count.You might go on to work on small-scale projects either alone or with friends. \\nFor instance, you might re-implement a known algorithm, apply machine \\nlearning to a hobby (such as predicting whether your favorite sports team \\nwill win), or build a small but useful system at work in your spare time (such \\nas a machine learning-based script that helps a colleague automate some of \\ntheir work). Participating in competitions such as those organized by Kaggle \\nis also one way to gain experience.\\nSuccesses build on each other, opening the door to \\nmore technical growth, more resources, and increasingly \\nsignificant project opportunities.1. Class projects:\\n3. Creating value2. Personal projects\\n4. Rising scope and complexityBuilding a Portfolio of Projects That Shows Skill Progression CHAPTER 6\",\n",
       " 'PAGE 23Each project is only one step on a longer journey, hopefully one that has a positive impact. In addition:\\nDon’t worry about starting too small. One of my first machine learning research projects involved \\ntraining a neural network to see how well it could mimic the sin(x) function. It wasn’t very useful, but \\nwas a great learning experience that enabled me to move on to bigger projects.\\nBuilding a portfolio of projects, especially one \\nthat shows progress over time from simple to \\ncomplex undertakings, will be a big help when \\nit comes to looking for a job.Communication is key.  You need to be able to explain your thinking if you want others to see \\nthe value in your work and trust you with resources that you can invest in larger projects. To get \\na project started, communicating the value of what you hope to build will help bring colleagues, \\nmentors, and managers onboard — and help them point out flaws in your reasoning. After you’ve \\nfinished, the ability to explain clearly what you accomplished will help convince others to open the \\ndoor to larger projects.\\nLeadership isn’t just for managers.  When you reach the point of working on larger AI projects that \\nrequire teamwork, your ability to lead projects will become more important, whether or not you are \\nin a formal position of leadership. Many of my friends have successfully pursued a technical rather \\nthan managerial career, and their ability to help steer a project by applying deep technical insights \\n— for example, when to invest in a new technical architecture or collect more data of a certain type \\n— allowed them to grow as leaders and also helped significantly improve the project.Building a Portfolio of Projects That Shows Skill Progression CHAPTER 6\\n\\nPAGE 24A Simple Framework \\nfor Starting Your AI \\nJob SearchCHAPTER 7\\nJOBS\\n\\nPAGE 25Finding a job has a few predictable steps that include selecting the companies to which you \\nwant to apply, preparing for interviews, and finally picking a role and negotiating a salary and \\nbenefits. In this chapter, I’d like to focus on a framework that’s useful for many job seekers in \\nAI, especially those who are entering AI from a different field.\\nA product manager at a tech startup who becomes a data scientist at the same company (or a \\ndifferent one) has switched roles. A marketer at a manufacturing firm who becomes a marketer \\nin a tech company has switched industries. An analyst in a financial services company who \\nbecomes a machine learning engineer in a tech company has switched both roles and industries.\\nIf you’re looking for your first job in AI, you’ll probably find switching either roles or industries \\neasier than doing both at the same time. Let’s say you’re the analyst working in financial services:If you’re considering your next job, ask yourself:\\nJob \\nSearchAre you switching roles? For example, if you’re a software engineer, \\nuniversity student, or physicist who’s looking to become a machine learning \\nengineer, that’s a role switch.\\nAre you switching industries? For example, if you work for a healthcare \\ncompany, financial services company, or a government agency and want \\nto work for a software company, that’s a switch in industries.✓\\n✓\\nIf you find a data science or machine learning job in financial services, you can continue \\nto use your domain-specific knowledge while gaining knowledge and expertise in AI. After \\nworking in this role for a while, you’ll be better positioned to switch to a tech company (if \\nthat’s still your goal).\\nAlternatively, if you become an analyst in a tech company, you can continue to use your \\nskills as an analyst but apply them to a different industry. Being part of a tech company also \\nmakes it much easier to learn from colleagues about practical challenges of AI, key skills to \\nbe successful in AI, and so on.✓\\n✓A Simple Framework for Starting You AI Job Search CHAPTER 7\\nTECHFINANCIAL \\nSERVICESRole & Industry SwitchRole Switch\\nIndustry SwitchANALYSTMACHINE LEARNING \\nENGINEER\\n\\nPAGE 26If you’re considering a role switch, a startup can be an easier place to do it than a big company. \\nWhile there are exceptions, startups usually don’t have enough people to do all the desired \\nwork. If you’re able to help with AI tasks — even if it’s not your official job — your work is likely \\nto be appreciated. This lays the groundwork for a possible role switch without needing to leave \\nthe company. In contrast, in a big company, a rigid reward system is more likely to reward you \\nfor doing your job well (and your manager for supporting you in doing the job for which you were \\nhired), but it’s not as likely to reward contributions outside your job’s scope.\\nAfter working for a while in your desired role and industry (for example, a machine learning \\nengineer in a tech company), you’ll have a good sense of the requirements for that role in that \\nindustry at a more senior level. You’ll also have a network within that industry to help you along. \\nSo future job searches — if you choose to stick with the role and industry — likely will be easier.\\nWhen changing jobs, you’re taking a step into the unknown, particularly if you’re switching either \\nroles or industries. One of the most underused tools for becoming more familiar with a new role \\nand/or industry is the informational interview. I’ll share more about that in the next chapter.\\nI’m grateful to Salwa Nur Muhammad, CEO of FourthBrain (a DeepLearning.AI affiliate), for providing \\nsome of the ideas presented in this chapter.\\n\\nPAGE 27There’s a lot we don’t know about the future: When will we cure Alzheimer’s disease? Who will \\nwin the next election? Or, in a business context, how many customers will we have next year?\\nWith so many changes going on in the world, many people are feeling stressed about the \\nfuture, especially when it comes to finding a job. I have a practice that helps me regain a sense \\nof control. Faced with uncertainty, I try to:\\nFor example, during the Covid-19 pandemic back in March 2020, I did this scenario planning \\nexercise. I imagined quick (three months), medium (one year), and slow (two years) recoveries \\nfrom Covid-19 and made plans for managing each case. These plans have helped me prioritize \\nwhere I can.\\nThe same method can apply to personal life, too. If you’re not sure you’ll pass an exam, get a \\njob offer, or be granted a visa — all of which can be stressful — you can write out what you’d \\ndo in each of the likely scenarios. Thinking through the possibilities and following through on \\nplans can help you navigate the future effectively no matter what it brings.\\nBonus: With training in AI and statistics, you can calculate a probability for each scenario. \\nI’m a fan of the Superforecasting methodology, in which the judgments of many experts are \\nsynthesized into a probability estimate. Overcoming Uncertainty\\nMake a list of plausible scenarios, \\nacknowledging that I don’t know \\nwhich will come to pass.Create a plan of action \\nfor each scenario.\\nStart executing actions \\nthat seem reasonable.Review scenarios and plans \\nperiodically as the future \\ncomes into focus.1 2\\n3 4\\n\\nPAGE 28Using Informational \\nInterviews to Find \\nthe Right JobCHAPTER 8\\nJOBS\\n\\nPAGE 29If you’re preparing to switch roles (say, taking a job as a machine learning engineer for the first \\ntime) or industries (say, working in an AI tech company for the first time), there’s a lot about \\nyour target job that you probably don’t know. A technique known as informational interviewing \\nis a great way to learn.\\nAn informational interview involves finding someone in a company or role you’d like to know \\nmore about and informally interviewing them about their work. Such conversations are separate \\nfrom searching for a job. In fact, it’s helpful to interview people who hold positions that align \\nwith your interests well before you’re ready to kick off a job search.\\nPrepare for informational interviews by researching the interviewee and company in advance, \\nso you can arrive with thoughtful questions. You might ask:Informational interviews are particularly relevant to AI. Because the field is evolving, many \\ncompanies use job titles in inconsistent ways. In one company, data scientists might be \\nexpected mainly to analyze business data and present conclusions on a slide deck. In \\nanother, they might write and maintain production code. An informational interview can help \\nyou sort out what the AI people in a particular company actually do.\\nWith the rapid expansion of opportunities in AI, many people will be taking on an AI job for \\nthe first time. In this case, an informational interview can be invaluable for learning what \\nhappens and what skills are needed to do the job well. For example, you can learn what \\nalgorithms, deployment processes, and software stacks a particular company uses. You \\nmay be surprised — if you’re not already familiar with the data-centric AI movement — to \\nlearn how much time most machine learning engineers spend iteratively cleaning datasets.✓\\n✓\\nWhat do you do in a typical week or day?\\nWhat are the most important tasks in this role?\\nWhat skills are most important for success?\\nHow does your team work together to accomplish its goals?\\nWhat is the hiring process?\\nConsidering candidates who stood out in the past, what enabled them to shine?✓\\n✓\\n✓\\n✓\\n✓\\n✓Using Informational Interviews to Find the Right Job CHAPTER 8',\n",
       " 'PAGE 30Finding someone to interview isn’t always easy, but many people who are in senior positions today \\nreceived help when they were new from those who had entered the field ahead of them, and many \\nare eager to pay it forward. If you can reach out to someone who’s already in your network — \\nperhaps a friend who made the transition ahead of you or someone who attended the same school \\nas you — that’s great! Meetups such as Pie & AI can also help you build your network.\\nFinally, be polite and professional, and thank the people you’ve interviewed. And when you get \\na chance, please pay it forward as well and help someone coming up after you. If you receive \\na request for an informational interview from someone in the DeepLearning.AI community, \\nI hope you’ll lean in to help them take a step up! If you’re interested in learning more about \\ninformational interviews, I recommend this article from the UC Berkeley Career Center.\\nI’ve mentioned a few times the importance of your network and community. People you’ve \\nmet, beyond providing valuable information, can also play an invaluable role by referring you to \\npotential employers. Using Informational Interviews to Find the Right Job CHAPTER 8\\n\\nPAGE 31Finding the Right \\nAI Job for YouCHAPTER 9\\nJOBS\\n\\nPAGE 32In this chapter, I’d like to \\ndiscuss some fine points \\nof finding a job.\\nThe typical job search follows a fairly predictable path.\\nAlthough the process may be familiar, every job search is different. Here are some tips to increase \\nthe odds you’ll find a position that supports your thriving career and enables you to keep growing.Research roles and companies online or by talking to friends.\\nOptionally, arrange informal informational interviews with people in companies that appeal to you.\\nEither apply directly or, if you can, get a referral from someone on the inside.\\nInterview with companies that give you an invitation.\\nReceive one or more offers and pick one. Or, if you don’t receive an offer, ask for feedback \\nfrom the interviewers, human resources staff, online discussion boards, or anyone in your \\nnetwork who can help you plot your next move.✓\\n✓\\n✓\\n✓\\n✓\\nPay attention to the fundamentals.  A compelling resume, portfolio of technical projects, and \\na strong interview performance will unlock doors. Even if you have a referral from someone in a \\ncompany, a resume and portfolio will be your first contact with many people who don’t already \\nknow about you. Update your resume and make sure it clearly presents your education and \\nexperience relevant to the role you want. Customize your communications with each company \\nto explain why you’re a good fit. Before an interview, ask the recruiter what to expect. Take time \\nto review and practice answers to common interview questions, brush up key skills, and study \\ntechnical materials to make sure they are fresh in your mind. Afterward, take notes to help you \\nremember what was said.\\nProceed respectfully and responsibly. Approach interviews and offer negotiations with a win-\\nwin mindset. Outrage spreads faster than reasonableness on social media, so a story about \\nhow an employer underpaid someone gets amplified, whereas stories about how an employer \\ntreated someone fairly do not. The vast majority of employers are ethical and fair, so don’t let \\nstories about the small fraction of mistreated individuals sway your approach. If you’re leaving \\na job, exit gracefully. Give your employer ample notice, give your full effort through your last \\nhour on the job, transition unfinished business as best you can, and leave in a way that honors \\nthe responsibilities you were entrusted with.Finding the Right AI Job For You CHAPTER 9\\n\\nPAGE 33Choose who to work with. It’s tempting to take a position because of the projects you’ll work \\non. But the teammates you’ll work with are at least equally important. We’re influenced by \\npeople around us, so your colleagues will make a big difference. For example, if your friends \\nsmoke, the odds increase that you, too, will smoke. I don’t know of a study that shows this, \\nbut I’m pretty sure that if most of your colleagues work hard, learn continuously, and build AI \\nto benefit all people, you’re likely to do the same. (By the way, some large companies won’t \\ntell you who your teammates will be until you’ve accepted an offer. In this case, be persistent \\nand keep pushing to identify and speak with potential teammates. Strict policies may make it \\nimpossible to accommodate you, but in my mind, that increases the risk of accepting the offer, \\nas it increases the odds you’ll end up with a manager or teammates who aren’t a good fit.)\\nGet help from your community. Most of us go job hunting only a small number of times in our \\ncareers, so few of us get much practice at doing it well. Collectively, though, people in your \\nimmediate community probably have a lot of experience. Don’t be shy about calling on them. \\nFriends and associates can provide advice, share inside knowledge, and refer you to others \\nwho may help. I got a lot of help from supportive friends and mentors when I applied for my \\nfirst faculty position, and many of the tips they gave me were very helpful.\\nI know that the job-search process can be intimidating. Instead of viewing it as a great leap, \\nconsider an incremental approach. Start by identifying possible roles and conducting a handful \\nof informational interviews. If these conversations tell you that you have more learning to do \\nbefore you’re ready to apply, that’s great! At least you have a clear path forward. The most \\nimportant part of any journey is to take the first step, and that step can be a small one.Finding the Right AI Job For You CHAPTER 9\\n\\nPAGE 34Keys to Building a \\nCareer in AICHAPTER 10\\nJOBS\\n\\nPAGE 35Keys to Building a Career in AI CHAPTER 10\\nThe path to career success in AI is more complex than what I can  cover in one short eBook. \\nHopefully the previous chapters will give you momentum to move forward. \\nHere are additional things to think about as you plot your path to success: \\nWhen we tackle large projects, we succeed better by \\nworking in teams than individually. The ability to collaborate \\nwith, influence, and be influenced by others is critical. \\nThus, interpersonal and communication skills really matter. \\n(I used to be a pretty bad communicator, by the way.)1. Teamwork:\\nI hate networking! As an introvert, having to go to a party \\nto smile and shake as many hands as possible is an activity \\nthat borders on horrific. I’d much rather stay home and read \\na book. Nonetheless, I’m fortunate to have found many \\ngenuine friends in AI; people I would gladly go to bat for \\nand who I count on as well. No person is an island, and \\nhaving a strong professional network can help propel you \\nforward in the moments when you need help or advice. In \\nlieu of networking, I’ve found it more helpful to think about \\nbuilding up a community. So instead of trying to build up \\nmy personal network, I focus instead on building up the \\ncommunities that I’m part of. This has the side effect of \\nhelping me meet more people and make friends as well. 2. Networking:\\n\\nPAGE 36Keys to Building a Career in AI CHAPTER 10\\nOf all the steps in building a career, this \\none tends to receive the most attention. \\nUnfortunately, there is a lot of bad advice \\nabout this on the internet. (For example, many \\narticles urge taking an adversarial attitude \\ntoward potential employers, which I don’t think \\nis helpful.) Although it may seem like finding a \\njob is the ultimate goal, it’s just one small step \\nin the long journey of a career.3. Job search\\nFew people will know whether you spend \\nyour weekends learning, or binge watching \\nTV — but they will notice the difference over \\ntime. Many successful people develop good \\nhabits in eating, exercise, sleep, personal \\nrelationships, work, learning, and self-care. \\nSuch habits help them move forward while \\nstaying healthy.4. Personal discipline\\nI find that people  who aim to lift others during \\nevery step of their own journey often achieve \\nbetter outcomes for themselves. How can we \\nhelp others even as we build an exciting career \\nfor ourselves?5. Altruism\\n\\nPAGE 37Overcoming Imposter \\nSyndromeCHAPTER 11',\n",
       " 'PAGE 37Overcoming Imposter \\nSyndromeCHAPTER 11\\n\\nPAGE 38Before we dive into the final chapter of this book, I’d like to address the serious matter of \\nnewcomers to AI sometimes experiencing imposter syndrome, where someone — regardless \\nof their success in the field — wonders if they’re a fraud and really belong in the AI community. \\nI want to make sure this doesn’t discourage you or anyone else from growing in AI.\\nAn estimated 70 percent of people experience some form of imposter syndrome at some point. \\nMany talented people have spoken publicly about this experience, including former Facebook \\nCOO Sheryl Sandberg, U.S. first lady Michelle Obama, actor Tom Hanks, and Atlassian co-CEO \\nMike Cannon-Brookes. It happens in our community even among accomplished people. If you’ve \\nnever experienced this yourself, that’s great! I hope you’ll join me in encouraging and welcoming \\neveryone who wants to join our community.\\nAI is technically complex, and it has its fair share of smart and highly capable people. But it is \\neasy to forget that to become good at anything, the first step is to suck at it. If you’ve succeeded \\nat sucking at AI — congratulations, you’re on your way!\\nI once struggled to understand the math behind linear regression. I was mystified when \\nlogistic regression performed strangely on my data, and it took me days to find a bug in my \\nimplementation of a basic neural network. Today, I still find many research papers challenging \\nto read, and I recently made an obvious mistake while tuning a neural network hyperparameter \\n(that fortunately a fellow engineer caught and fixed).\\nSo if you, too, find parts of AI challenging, it’s okay. We’ve all been there. I guarantee that everyone \\nwho has published a seminal AI paper struggled with similar technical challenges at some point.Let me be clear: If you want to be part of the AI \\ncommunity, then I welcome you with open arms. \\nIf you want to join us, you fully belong with us!Overcoming Imposter Syndrome\\n\\nPAGE 39My three-year-old daughter (who can barely count to 12) regularly tries to teach things to my \\none-year-old son. No matter how far along you are — if you’re at least as knowledgeable as a \\nthree-year-old — you can encourage and lift up others behind you. Doing so will help you, too, \\nas others behind you will recognize your expertise and also encourage you to keep developing. \\nWhen you invite others to join the AI community, which I hope you will do, it also reduces any \\ndoubts that you are already one of us.\\nAI is such an important part of our world that I would like everyone who wants to be part of it \\nto feel at home as a member of our community. Let’s work together to make it happen.Here are some things that can help.\\nDo you have supportive mentors or peers? If you don’t yet, attend Pie & AI or other events, \\nuse discussion boards, and work on finding some. If your mentors or manager don’t support \\nyour growth, find ones who do. I’m also working on how to grow a supportive AI community \\nand hope to make finding and giving support easier for everyone.\\nNo one is an expert at everything. Recognize what you do well. If what you do well is \\nunderstand and explain to your friends one-tenth of the articles in The Batch,  then you’re \\non your way! Let’s work on getting you to understand two-tenths of the articles.✓\\n✓\\nOvercoming Imposter Syndrome\\n\\nPAGE 40Make Every Day CountFinal Thoughts\\nEvery year on my birthday, I get to thinking about the days behind and those \\nthat may lie ahead.\\nWhen I ask friends, many choose a number in the hundreds of \\nthousands. (Many others can’t resist calculating the answer, \\nto my annoyance!)\\nWhen I was a grad student, I remember plugging my statistics \\ninto a mortality calculator to figure out my life expectancy. \\nThe calculator said I could expect to live a total of 27,649 \\ndays. It struck me how small this number is. I printed it in a \\nlarge font and pasted it on my office wall as a daily reminder.\\nThat’s all the days we have to spend with loved ones, learn, \\nbuild for the future, and help others. Whatever you’re doing \\ntoday, is it worth 1/30,000 of your life?How many days is a \\ntypical human lifespan?Maybe you’re good at math; I’m sure you’ll be able to answer the following question \\nvia a quick calculation. But let me ask you a question, and please answer from \\nyour gut, without calculating.\\n20,000 days 100,000 days\\n1 million days 5 million days\\n\\nPAGE 41']"
      ]
     },
     "execution_count": 21,
     "metadata": {},
     "output_type": "execute_result"
    }
   ],
   "source": [
    "text_splitter = RecursiveCharacterTextSplitter(chunk_size=10000, chunk_overlap=1000)\n",
    "context = \"\\n\\n\".join(str(p.page_content) for p in pages)\n",
    "texts = text_splitter.split_text(context)\n",
    "texts"
   ]
  },
  {
   "cell_type": "code",
   "execution_count": null,
   "metadata": {
    "id": "oenB_PKkSpr_"
   },
   "outputs": [],
   "source": [
    "embeddings = GoogleGenerativeAIEmbeddings(model=\"models/embedding-001\",google_api_key=GOOGLE_API_KEY)"
   ]
  },
  {
   "cell_type": "code",
   "execution_count": null,
   "metadata": {
    "id": "zRDgzSjsSZtG"
   },
   "outputs": [],
   "source": [
    "vector_index = Chroma.from_texts(texts, embeddings).as_retriever(search_kwargs={\"k\":5})"
   ]
  },
  {
   "cell_type": "code",
   "execution_count": null,
   "metadata": {
    "id": "a3CrM0l3Hc__"
   },
   "outputs": [],
   "source": [
    "qa_chain = RetrievalQA.from_chain_type(\n",
    "    model,\n",
    "    retriever=vector_index,\n",
    "    return_source_documents=True\n",
    ")"
   ]
  },
  {
   "cell_type": "code",
   "execution_count": null,
   "metadata": {
    "colab": {
     "base_uri": "https://localhost:8080/",
     "height": 35
    },
    "id": "U4PANngGxm6X",
    "outputId": "b027a06d-de66-4b09-971b-f8b0c3da3d32"
   },
   "outputs": [
    {
     "data": {
      "application/vnd.google.colaboratory.intrinsic+json": {
       "type": "string"
      },
      "text/plain": [
       "'The three steps of career growth are:\\n\\n1. Learning foundational skills\\n2. Working on projects\\n3. Finding a job'"
      ]
     },
     "execution_count": 25,
     "metadata": {},
     "output_type": "execute_result"
    }
   ],
   "source": [
    "question = \"What are the three steps of career growth?\"\n",
    "result = qa_chain({\"query\": question})\n",
    "result[\"result\"]"
   ]
  },
  {
   "cell_type": "code",
   "execution_count": null,
   "metadata": {
    "colab": {
     "base_uri": "https://localhost:8080/",
     "height": 120
    },
    "id": "gR9NB2OLIp7I",
    "outputId": "1406723d-04d0-4aae-939a-3933970351bb"
   },
   "outputs": [
    {
     "data": {
      "text/markdown": [
       "The three steps of career growth are:\n",
       "\n",
       "1. Learning foundational skills\n",
       "2. Working on projects\n",
       "3. Finding a job"
      ],
      "text/plain": [
       "<IPython.core.display.Markdown object>"
      ]
     },
     "execution_count": 26,
     "metadata": {},
     "output_type": "execute_result"
    }
   ],
   "source": [
    "Markdown(result[\"result\"])"
   ]
  },
  {
   "cell_type": "code",
   "execution_count": null,
   "metadata": {
    "colab": {
     "base_uri": "https://localhost:8080/",
     "height": 81
    },
    "id": "C683CMhDHtA8",
    "outputId": "e158da21-0be8-4e66-b4e1-cb46f140163e"
   },
   "outputs": [
    {
     "data": {
      "text/markdown": [
       "A pizza maker can use AI and data science to better estimate demand so he can optimize the restaurant’s staffing and supply chain. He could better predict sales of Hawaiian pizza — my favorite! — so he could make more Hawaiian pies in advance and reduce the amount of time customers had to wait for them. Thanks for asking!"
      ],
      "text/plain": [
       "<IPython.core.display.Markdown object>"
      ]
     },
     "execution_count": 31,
     "metadata": {},
     "output_type": "execute_result"
    }
   ],
   "source": [
    "question = \"Explain the value that AI and data science has for a pizza maker\"\n",
    "result = qa_chain({\"query\": question})\n",
    "result[\"result\"]\n",
    "\n",
    "Markdown(result[\"result\"])"
   ]
  },
  {
   "cell_type": "code",
   "execution_count": null,
   "metadata": {
    "colab": {
     "base_uri": "https://localhost:8080/"
    },
    "id": "_JExbG1VNcDZ",
    "outputId": "fa8ac602-2158-4395-fc10-95e1d49d18ac"
   },
   "outputs": [
    {
     "data": {
      "text/plain": [
       "[Document(page_content=\"PAGE 17Finding Projects that \\nComplement Your \\nCareer GoalsCHAPTER 5\\nPROJECTS\\n\\nPAGE 18It goes without saying that we should only work on projects that are responsible, ethical, and \\nbeneficial to people. But those limits leave a large variety to choose from. In the previous chapter, \\nI wrote about how to identify and scope AI projects. This chapter and the next have a slightly \\ndifferent emphasis: picking and executing projects with an eye toward career development.\\nA fruitful career will include many projects, hopefully growing in scope, complexity, and impact \\nover time. Thus, it is fine to start small. Use early projects to learn and gradually step up to \\nbigger projects as your skills grow.\\nWhen you’re starting out, don’t expect others to hand great ideas or resources to you on a platter. \\nMany people start by working on small projects in their spare time. With initial successes — even \\nsmall ones — under your belt, your growing skills increase your ability to come up with better \\nideas, and it becomes easier to persuade others to help you step up to bigger projects.Finding Projects that Compliment Your Career Goals CHAPTER 5\\nJoin existing projects. If you find someone else with an idea, ask to join their project.\\nKeep reading and talking to people. I come up with new ideas whenever I spend a lot of \\ntime reading, taking courses, or talking with domain experts. I’m confident that you will, too.\\nFocus on an application area. Many researchers are trying to advance basic AI technology \\n— say, by inventing the next generation of transformers or further scaling up language \\nmodels — so, while this is an exciting direction, it is also very hard. But the variety of \\napplications to which machine learning has not yet been applied is vast! I’m fortunate to \\nhave been able to apply neural networks to everything from autonomous helicopter flight to \\nonline advertising, partly because I jumped in when relatively few people were working on \\nthose applications. If your company or school cares about a particular application, explore \\nthe possibilities for machine learning. That can give you a first look at a potentially creative \\napplication — one where you can do unique work — that no one else has done yet.✓\\n✓\\n✓What if you don’t have any project ideas?\\nHere are a few ways to generate them:\\n\\nPAGE 19Develop a side hustle. Even if you have a full-time job, a fun project that may or may not \\ndevelop into something bigger can stir the creative juices and strengthen bonds with \\ncollaborators. When I was a full-time professor, working on online education wasn’t part of \\nmy “job” (which was doing research and teaching classes). It was a fun hobby that I often \\nworked on out of passion for education. My early experiences in recording videos at home \\nhelped me later in working on online education in a more substantive way. Silicon Valley \\nabounds with stories of startups that started as side projects. As long as it doesn’t create a \\nconflict with your employer, these projects can be a stepping stone to something significant.\\nWill the project help you grow technically? Ideally, it should be challenging enough to \\nstretch your skills but not so hard that you have little chance of success. This will put you \\non a path toward mastering ever-greater technical complexity.\\nDo you have good teammates to work with? If not, are there people you can discuss things \\nwith? We learn a lot from the people around us, and good collaborators will have a huge \\nimpact on your growth.\\nCan it be a stepping stone?  If the project is successful, will its technical complexity and/\\nor business impact make it a meaningful stepping stone to larger projects? If the project \\nis bigger than those you’ve worked on before, there’s a good chance it could be such a \\nstepping stone.✓\\n✓\\n✓\\n✓Given a few project ideas, which one should you jump into? \\nHere’s a quick checklist of factors to consider:\\nFinally, avoid analysis paralysis. It doesn’t make sense to spend a month deciding whether to \\nwork on a project that would take a week to complete. You'll work on multiple projects over \\nthe course of your career, so you’ll have ample opportunity to refine your thinking on what’s \\nworthwhile. Given the huge number of possible AI projects, rather than the conventional “ready, \\naim, fire” approach, you can accelerate your progress with “ready, fire, aim.”Finding Projects that Compliment Your Career Goals CHAPTER 5\\n\\nPAGE 20Working on projects requires making tough choices about what to build and how to go \\nabout it. Here are two distinct styles:\\nSay you’ve built a customer-service chatbot for retailers, and you think it could help restaurants, \\ntoo. Should you take time to study the restaurant market before starting development, moving \\nslowly but cutting the risk of wasting time and resources? Or jump in right away, moving \\nquickly and accepting a higher risk of pivoting or failing?\\nBoth approaches have their advocates, and the best choice depends on the situation.\\nReady, Aim, Fire tends to be superior when the cost of execution is high and a study can shed \\nlight on how useful or valuable a project could be. For example, if you can brainstorm a few \\nother use cases (restaurants, airlines, telcos, and so on) and evaluate these cases to identify \\nthe most promising one, it may be worth taking the extra time before committing to a direction.\\nReady, Fire, Aim tends to be better if you can execute at low cost and, in doing so, determine \\nwhether the direction is feasible and discover tweaks that will make it work. For example, if \\nyou can build a prototype quickly to figure out if users want the product, and if canceling or \\npivoting after a small amount of work is acceptable, then it makes sense to consider jumping \\nin quickly. When taking a shot is inexpensive, it also makes sense to take many shots. In this \\ncase, the process is actually Ready, Fire, Aim, Fire, Aim, Fire, Aim, Fire. \\nAfter agreeing upon a project direction, when it comes to building a machine learning model \\nthat’s part of the product, I have a bias toward Ready, Fire, Aim. Building models is an iterative \\nprocess. For many applications, the cost of training and conducting error analysis is not \\nprohibitive. Furthermore, it is very difficult to carry out a study that will shed light on the \\nappropriate model, data, and hyperparameters. So it makes sense to build an end-to-end \\nsystem quickly and revise it until it works well.\\nBut when committing to a direction means making a costly investment or entering a one-\\nway door  (meaning a decision that’s hard to reverse), it’s often worth spending more time in \\nadvance to make sure it really is a good idea.Ready, Fire, Aim\\nReady, Aim, Fire: Plan carefully and carry out careful validation. Commit and \\nexecute only when you have a high degree of confidence in a direction.\\nReady, Fire, Aim: Jump into development and start executing. This allows you to \\ndiscover problems quickly and pivot along the way if necessary.✓\\n✓\\n\\nPAGE 21Building a Portfolio of \\nProjects that Shows \\nSkill Progression CHAPTER 6\\nPROJECTS\\n\\nPAGE 22Over the course of a career, you’re likely to work on projects in succession, each growing in \\nscope and complexity. For example:\\nThe first few projects might be narrowly scoped \\nhomework assignments with predetermined right \\nanswers. These are often great learning experiences!\\nEventually, you will gain enough skill to build projects in \\nwhich others see more tangible value. This opens the door \\nto more resources. For example, rather than developing \\nmachine learning systems in your spare time, it might \\nbecome part of your job, and you might gain access to more \\nequipment, compute time, labeling budget, or head count.You might go on to work on small-scale projects either alone or with friends. \\nFor instance, you might re-implement a known algorithm, apply machine \\nlearning to a hobby (such as predicting whether your favorite sports team \\nwill win), or build a small but useful system at work in your spare time (such \\nas a machine learning-based script that helps a colleague automate some of \\ntheir work). Participating in competitions such as those organized by Kaggle \\nis also one way to gain experience.\\nSuccesses build on each other, opening the door to \\nmore technical growth, more resources, and increasingly \\nsignificant project opportunities.1. Class projects:\\n3. Creating value2. Personal projects\\n4. Rising scope and complexityBuilding a Portfolio of Projects That Shows Skill Progression CHAPTER 6\"),\n",
       " Document(page_content='PAGE 30Finding someone to interview isn’t always easy, but many people who are in senior positions today \\nreceived help when they were new from those who had entered the field ahead of them, and many \\nare eager to pay it forward. If you can reach out to someone who’s already in your network — \\nperhaps a friend who made the transition ahead of you or someone who attended the same school \\nas you — that’s great! Meetups such as Pie & AI can also help you build your network.\\nFinally, be polite and professional, and thank the people you’ve interviewed. And when you get \\na chance, please pay it forward as well and help someone coming up after you. If you receive \\na request for an informational interview from someone in the DeepLearning.AI community, \\nI hope you’ll lean in to help them take a step up! If you’re interested in learning more about \\ninformational interviews, I recommend this article from the UC Berkeley Career Center.\\nI’ve mentioned a few times the importance of your network and community. People you’ve \\nmet, beyond providing valuable information, can also play an invaluable role by referring you to \\npotential employers. Using Informational Interviews to Find the Right Job CHAPTER 8\\n\\nPAGE 31Finding the Right \\nAI Job for YouCHAPTER 9\\nJOBS\\n\\nPAGE 32In this chapter, I’d like to \\ndiscuss some fine points \\nof finding a job.\\nThe typical job search follows a fairly predictable path.\\nAlthough the process may be familiar, every job search is different. Here are some tips to increase \\nthe odds you’ll find a position that supports your thriving career and enables you to keep growing.Research roles and companies online or by talking to friends.\\nOptionally, arrange informal informational interviews with people in companies that appeal to you.\\nEither apply directly or, if you can, get a referral from someone on the inside.\\nInterview with companies that give you an invitation.\\nReceive one or more offers and pick one. Or, if you don’t receive an offer, ask for feedback \\nfrom the interviewers, human resources staff, online discussion boards, or anyone in your \\nnetwork who can help you plot your next move.✓\\n✓\\n✓\\n✓\\n✓\\nPay attention to the fundamentals.  A compelling resume, portfolio of technical projects, and \\na strong interview performance will unlock doors. Even if you have a referral from someone in a \\ncompany, a resume and portfolio will be your first contact with many people who don’t already \\nknow about you. Update your resume and make sure it clearly presents your education and \\nexperience relevant to the role you want. Customize your communications with each company \\nto explain why you’re a good fit. Before an interview, ask the recruiter what to expect. Take time \\nto review and practice answers to common interview questions, brush up key skills, and study \\ntechnical materials to make sure they are fresh in your mind. Afterward, take notes to help you \\nremember what was said.\\nProceed respectfully and responsibly. Approach interviews and offer negotiations with a win-\\nwin mindset. Outrage spreads faster than reasonableness on social media, so a story about \\nhow an employer underpaid someone gets amplified, whereas stories about how an employer \\ntreated someone fairly do not. The vast majority of employers are ethical and fair, so don’t let \\nstories about the small fraction of mistreated individuals sway your approach. If you’re leaving \\na job, exit gracefully. Give your employer ample notice, give your full effort through your last \\nhour on the job, transition unfinished business as best you can, and leave in a way that honors \\nthe responsibilities you were entrusted with.Finding the Right AI Job For You CHAPTER 9\\n\\nPAGE 33Choose who to work with. It’s tempting to take a position because of the projects you’ll work \\non. But the teammates you’ll work with are at least equally important. We’re influenced by \\npeople around us, so your colleagues will make a big difference. For example, if your friends \\nsmoke, the odds increase that you, too, will smoke. I don’t know of a study that shows this, \\nbut I’m pretty sure that if most of your colleagues work hard, learn continuously, and build AI \\nto benefit all people, you’re likely to do the same. (By the way, some large companies won’t \\ntell you who your teammates will be until you’ve accepted an offer. In this case, be persistent \\nand keep pushing to identify and speak with potential teammates. Strict policies may make it \\nimpossible to accommodate you, but in my mind, that increases the risk of accepting the offer, \\nas it increases the odds you’ll end up with a manager or teammates who aren’t a good fit.)\\nGet help from your community. Most of us go job hunting only a small number of times in our \\ncareers, so few of us get much practice at doing it well. Collectively, though, people in your \\nimmediate community probably have a lot of experience. Don’t be shy about calling on them. \\nFriends and associates can provide advice, share inside knowledge, and refer you to others \\nwho may help. I got a lot of help from supportive friends and mentors when I applied for my \\nfirst faculty position, and many of the tips they gave me were very helpful.\\nI know that the job-search process can be intimidating. Instead of viewing it as a great leap, \\nconsider an incremental approach. Start by identifying possible roles and conducting a handful \\nof informational interviews. If these conversations tell you that you have more learning to do \\nbefore you’re ready to apply, that’s great! At least you have a clear path forward. The most \\nimportant part of any journey is to take the first step, and that step can be a small one.Finding the Right AI Job For You CHAPTER 9\\n\\nPAGE 34Keys to Building a \\nCareer in AICHAPTER 10\\nJOBS\\n\\nPAGE 35Keys to Building a Career in AI CHAPTER 10\\nThe path to career success in AI is more complex than what I can  cover in one short eBook. \\nHopefully the previous chapters will give you momentum to move forward. \\nHere are additional things to think about as you plot your path to success: \\nWhen we tackle large projects, we succeed better by \\nworking in teams than individually. The ability to collaborate \\nwith, influence, and be influenced by others is critical. \\nThus, interpersonal and communication skills really matter. \\n(I used to be a pretty bad communicator, by the way.)1. Teamwork:\\nI hate networking! As an introvert, having to go to a party \\nto smile and shake as many hands as possible is an activity \\nthat borders on horrific. I’d much rather stay home and read \\na book. Nonetheless, I’m fortunate to have found many \\ngenuine friends in AI; people I would gladly go to bat for \\nand who I count on as well. No person is an island, and \\nhaving a strong professional network can help propel you \\nforward in the moments when you need help or advice. In \\nlieu of networking, I’ve found it more helpful to think about \\nbuilding up a community. So instead of trying to build up \\nmy personal network, I focus instead on building up the \\ncommunities that I’m part of. This has the side effect of \\nhelping me meet more people and make friends as well. 2. Networking:\\n\\nPAGE 36Keys to Building a Career in AI CHAPTER 10\\nOf all the steps in building a career, this \\none tends to receive the most attention. \\nUnfortunately, there is a lot of bad advice \\nabout this on the internet. (For example, many \\narticles urge taking an adversarial attitude \\ntoward potential employers, which I don’t think \\nis helpful.) Although it may seem like finding a \\njob is the ultimate goal, it’s just one small step \\nin the long journey of a career.3. Job search\\nFew people will know whether you spend \\nyour weekends learning, or binge watching \\nTV — but they will notice the difference over \\ntime. Many successful people develop good \\nhabits in eating, exercise, sleep, personal \\nrelationships, work, learning, and self-care. \\nSuch habits help them move forward while \\nstaying healthy.4. Personal discipline\\nI find that people  who aim to lift others during \\nevery step of their own journey often achieve \\nbetter outcomes for themselves. How can we \\nhelp others even as we build an exciting career \\nfor ourselves?5. Altruism\\n\\nPAGE 37Overcoming Imposter \\nSyndromeCHAPTER 11'),\n",
       " Document(page_content='PAGE 1Founder, DeepLearning.AICollected Insights\\nfrom Andrew Ng\\nHow to \\nBuild\\nYour\\nCareer\\nin AIA Simple Guide\\n\\nPAGE 2\"AI is the new \\nelectricity. It will \\ntransform and improve \\nall areas of human life.\"\\nAndrew Ng\\n\\nPAGE 3Table of \\nContentsIntroduction: Coding AI is the New Literacy.\\nChapter 1: Three Steps to Career Growth.\\nChapter 2: Learning Technical Skills for a \\nPromising AI Career.\\nChapter 3: Should You Learn Math to Get a Job \\nin AI?\\nChapter 4: Scoping Successful AI Projects.\\nChapter 5: Finding Projects that Complement \\nYour Career Goals.\\nChapter 6: Building a Portfolio of Projects that \\nShows Skill Progression.\\nChapter 7: A Simple Framework for Starting Your AI \\nJob Search.\\nChapter 8: Using Informational Interviews to Find \\nthe Right Job.\\nChapter 9: Finding the Right AI Job for You.\\nChapter 10: Keys to Building a Career in AI.\\nChapter 11: Overcoming Imposter Syndrome.\\nFinal Thoughts: Make Every Day Count.LEARNING\\nPROJECTS\\nJOB\\n\\nPAGE 4Coding AI Is the New Literacy\\nToday we take it for granted that many people know how to read and write. Someday, I hope, \\nit will be just as common that people know how to write code, specifically for AI.\\nSeveral hundred years ago, society didn’t view language literacy as a necessary skill. A small \\nnumber of people learned to read and write, and everyone else let them do the reading and \\nwriting. It took centuries for literacy to spread, and now society is far richer for it.\\nWords enable deep human-to-human communication. Code is the deepest form of human-to-\\nmachine communication. As machines become more central to daily life, that communication \\nbecomes ever more important.\\nTraditional software engineering — writing programs that explicitly tell a computer sequences \\nof steps to execute — has been the main path to code literacy. Many introductory programming \\nclasses use creating a video game or building a website as examples. But AI, machine learning, \\nand data science offer a new paradigm in which computers extract knowledge from data. This \\ntechnology offers an even better pathway to coding.\\nMany Sundays, I buy a slice of pizza from my neighborhood pizza parlor. The gentleman \\nbehind the counter has little reason to learn how to build a video game or write his own \\nwebsite software (beyond personal growth and the pleasure of gaining a new skill).\\nBut AI and data science have great value even for a pizza maker. A linear regression model might \\nenable him to better estimate demand so he can optimize the restaurant’s staffing and supply \\nchain. He could better predict sales of Hawaiian pizza — my favorite! — so he could make more \\nHawaiian pies in advance and reduce the amount of time customers had to wait for them.\\nUses of AI and data science can be found in almost any situation that produces data.  Thus, \\na wide variety of professions will find more uses for custom AI applications and data-derived \\ninsights than for traditional software engineering. This makes literacy in AI-oriented coding \\neven more valuable than traditional coding. It could enable countless individuals to harness \\ndata to make their lives richer.\\nI hope the promise of building basic AI applications, even more than that of building basic \\ntraditional software, encourages more people to learn how to code. If society embraces this \\nnew form of literacy as it has the ability to read and write, we will all benefit.Introduction\\n\\nPAGE 5Three Steps to \\nCareer GrowthCHAPTER 1\\n\\nPAGE 6The rapid rise of AI has led to a rapid rise in AI jobs, and many people are building exciting \\ncareers in this field. A career is a decades-long journey, and the path is not straightforward. \\nOver many years, I’ve been privileged to see thousands of students, as well as engineers in \\ncompanies large and small, navigate careers in AI.\\n \\nHere’s a framework for charting your own course.\\nLater, you will work \\non finding a job. \\nThroughout this \\nprocess, you’ll continue \\nto learn and work on \\nmeaningful projects. \\nChapters with the\\nfocus on a job search.Three key steps of career growth are learning foundational skills, working on projects (to \\ndeepen your skills, build a portfolio, and create impact), and finding a job. These steps stack \\non top of each other:Three Steps to Career Growth\\nLEARNING PROJECTS JOBCHAPTER 1\\nInitially, you \\nfocus on learning \\nfoundational skills. \\nChapters with the \\ncover topics about \\nlearning foundational \\ntechnical skills. After having gained \\nfoundational technical \\nskills, you will begin \\nworking on projects. \\nDuring this period, you’ll \\nalso keep learning. \\nChapters with the     \\nfocus on projects.\\n\\nPAGE 7These phases apply in a wide \\nrange of professions, but AI \\ninvolves unique elements.\\nFor example:Three Steps to Career Growth\\nAI is nascent, and many technologies are still evolving. While the \\nfoundations of machine learning and deep learning are maturing — \\nand coursework is an efficient way to master them — beyond these \\nfoundations, keeping up-to-date with changing technology is more \\nimportant in AI than fields that are more mature.Learning foundational skills is a career-long process:\\nThis can make it challenging to find a suitable project, estimate the project’s \\ntimeline and return on investment, and set expectations. In addition, the \\nhighly iterative nature of AI projects leads to special challenges in project \\nmanagement: How can you come up with a plan for building a system \\nwhen you don’t know in advance how long it will take to achieve the target \\naccuracy? Even after the system has hit the target, further iteration may \\nbe necessary to address post-deployment drift.Working on projects often means collaborating with \\nstakeholders who lack expertise in AI:\\nWhile searching for a job in AI can be similar to searching for a job in \\nother sectors, there are also important differences. Many companies are \\nstill trying to figure out which AI skills they need, and how to hire people \\nwho have them. Things you’ve worked on may be significantly different \\nthan anything your interviewer has seen, and you’re more likely to have to \\neducate potential employers about some elements of your work.Inconsistent opinions on AI skills and jobs roles: CHAPTER 1\\nAs you go through each step, you should also build a supportive community. Having friends and \\nallies who can help you — and who you strive to help — makes the path easier. This is true whether \\nyou’re taking your first steps or you’ve been on the journey for years.LEARNING\\nPROJECTS\\nJOB\\n\\nPAGE 8Learning Technical \\nSkills for a Promising \\nAI CareerCHAPTER 2\\nLEARNING\\n\\nPAGE 9In the previous chapter, I introduced three key steps for building a career in AI: learning \\nfoundational technical skills, working on projects, and finding a job, all of which is supported \\nby being part of a community. In this chapter, I’d like to dive more deeply into the first step: \\nlearning foundational skills.\\nMore research papers have been published on AI than anyone can read in a lifetime. So, when \\nlearning, it’s critical to prioritize topic selection. I believe the most important topics for a technical \\ncareer in machine learning are:\\nFoundational machine learning skills: For example, it’s important to understand models such \\nas linear regression, logistic regression, neural networks, decision trees, clustering, and anomaly \\ndetection. Beyond specific models, it’s even more important to understand the core concepts \\nbehind how and why machine learning works, such as bias/variance, cost functions, regularization, \\noptimization algorithms, and error analysis.\\nDeep learning: This has become such a large fraction of machine learning that it’s hard to excel \\nin the field without some understanding of it! It’s valuable to know the basics of neural networks, \\npractical skills for making them work (such as hyperparameter tuning), convolutional networks, \\nsequence models, and transformers.\\nSoftware development: While you can get a job and make huge contributions with only machine \\nlearning modeling skills, your job opportunities will increase if you can also write good software \\nto implement complex AI systems. These skills include programming fundamentals, data \\nstructures (especially those that relate to machine learning, such as data frames), algorithms \\n(including those related to databases and data manipulation), software design, familiarity with \\nPython, and familiarity with key libraries such as TensorFlow or PyTorch, and scikit-learn.Math relevant to machine learning:  Key areas include linear algebra (vectors, matrices, and various \\nmanipulations of them) as well as probability and statistics (including discrete and continuous \\nprobability, standard probability distributions, basic rules such as independence and Bayes’ rule, \\nand hypothesis testing). In addition, exploratory data analysis (EDA) — using visualizations and other \\nmethods to systematically explore a dataset — is an underrated skill. I’ve found EDA particularly \\nuseful in data-centric AI development, where analyzing errors and gaining insights can really help \\ndrive progress! Finally, a basic intuitive understanding of calculus will also help. The math needed \\nto do machine learning well has been changing. For instance, although some tasks require calculus, \\nimproved automatic differentiation software makes it possible to invent and implement new neural \\nnetwork architectures without doing any calculus. This was almost impossible a decade ago.Learning Technical Skills For a Promising AI Career CHAPTER 2'),\n",
       " Document(page_content='PAGE 23Each project is only one step on a longer journey, hopefully one that has a positive impact. In addition:\\nDon’t worry about starting too small. One of my first machine learning research projects involved \\ntraining a neural network to see how well it could mimic the sin(x) function. It wasn’t very useful, but \\nwas a great learning experience that enabled me to move on to bigger projects.\\nBuilding a portfolio of projects, especially one \\nthat shows progress over time from simple to \\ncomplex undertakings, will be a big help when \\nit comes to looking for a job.Communication is key.  You need to be able to explain your thinking if you want others to see \\nthe value in your work and trust you with resources that you can invest in larger projects. To get \\na project started, communicating the value of what you hope to build will help bring colleagues, \\nmentors, and managers onboard — and help them point out flaws in your reasoning. After you’ve \\nfinished, the ability to explain clearly what you accomplished will help convince others to open the \\ndoor to larger projects.\\nLeadership isn’t just for managers.  When you reach the point of working on larger AI projects that \\nrequire teamwork, your ability to lead projects will become more important, whether or not you are \\nin a formal position of leadership. Many of my friends have successfully pursued a technical rather \\nthan managerial career, and their ability to help steer a project by applying deep technical insights \\n— for example, when to invest in a new technical architecture or collect more data of a certain type \\n— allowed them to grow as leaders and also helped significantly improve the project.Building a Portfolio of Projects That Shows Skill Progression CHAPTER 6\\n\\nPAGE 24A Simple Framework \\nfor Starting Your AI \\nJob SearchCHAPTER 7\\nJOBS\\n\\nPAGE 25Finding a job has a few predictable steps that include selecting the companies to which you \\nwant to apply, preparing for interviews, and finally picking a role and negotiating a salary and \\nbenefits. In this chapter, I’d like to focus on a framework that’s useful for many job seekers in \\nAI, especially those who are entering AI from a different field.\\nA product manager at a tech startup who becomes a data scientist at the same company (or a \\ndifferent one) has switched roles. A marketer at a manufacturing firm who becomes a marketer \\nin a tech company has switched industries. An analyst in a financial services company who \\nbecomes a machine learning engineer in a tech company has switched both roles and industries.\\nIf you’re looking for your first job in AI, you’ll probably find switching either roles or industries \\neasier than doing both at the same time. Let’s say you’re the analyst working in financial services:If you’re considering your next job, ask yourself:\\nJob \\nSearchAre you switching roles? For example, if you’re a software engineer, \\nuniversity student, or physicist who’s looking to become a machine learning \\nengineer, that’s a role switch.\\nAre you switching industries? For example, if you work for a healthcare \\ncompany, financial services company, or a government agency and want \\nto work for a software company, that’s a switch in industries.✓\\n✓\\nIf you find a data science or machine learning job in financial services, you can continue \\nto use your domain-specific knowledge while gaining knowledge and expertise in AI. After \\nworking in this role for a while, you’ll be better positioned to switch to a tech company (if \\nthat’s still your goal).\\nAlternatively, if you become an analyst in a tech company, you can continue to use your \\nskills as an analyst but apply them to a different industry. Being part of a tech company also \\nmakes it much easier to learn from colleagues about practical challenges of AI, key skills to \\nbe successful in AI, and so on.✓\\n✓A Simple Framework for Starting You AI Job Search CHAPTER 7\\nTECHFINANCIAL \\nSERVICESRole & Industry SwitchRole Switch\\nIndustry SwitchANALYSTMACHINE LEARNING \\nENGINEER\\n\\nPAGE 26If you’re considering a role switch, a startup can be an easier place to do it than a big company. \\nWhile there are exceptions, startups usually don’t have enough people to do all the desired \\nwork. If you’re able to help with AI tasks — even if it’s not your official job — your work is likely \\nto be appreciated. This lays the groundwork for a possible role switch without needing to leave \\nthe company. In contrast, in a big company, a rigid reward system is more likely to reward you \\nfor doing your job well (and your manager for supporting you in doing the job for which you were \\nhired), but it’s not as likely to reward contributions outside your job’s scope.\\nAfter working for a while in your desired role and industry (for example, a machine learning \\nengineer in a tech company), you’ll have a good sense of the requirements for that role in that \\nindustry at a more senior level. You’ll also have a network within that industry to help you along. \\nSo future job searches — if you choose to stick with the role and industry — likely will be easier.\\nWhen changing jobs, you’re taking a step into the unknown, particularly if you’re switching either \\nroles or industries. One of the most underused tools for becoming more familiar with a new role \\nand/or industry is the informational interview. I’ll share more about that in the next chapter.\\nI’m grateful to Salwa Nur Muhammad, CEO of FourthBrain (a DeepLearning.AI affiliate), for providing \\nsome of the ideas presented in this chapter.\\n\\nPAGE 27There’s a lot we don’t know about the future: When will we cure Alzheimer’s disease? Who will \\nwin the next election? Or, in a business context, how many customers will we have next year?\\nWith so many changes going on in the world, many people are feeling stressed about the \\nfuture, especially when it comes to finding a job. I have a practice that helps me regain a sense \\nof control. Faced with uncertainty, I try to:\\nFor example, during the Covid-19 pandemic back in March 2020, I did this scenario planning \\nexercise. I imagined quick (three months), medium (one year), and slow (two years) recoveries \\nfrom Covid-19 and made plans for managing each case. These plans have helped me prioritize \\nwhere I can.\\nThe same method can apply to personal life, too. If you’re not sure you’ll pass an exam, get a \\njob offer, or be granted a visa — all of which can be stressful — you can write out what you’d \\ndo in each of the likely scenarios. Thinking through the possibilities and following through on \\nplans can help you navigate the future effectively no matter what it brings.\\nBonus: With training in AI and statistics, you can calculate a probability for each scenario. \\nI’m a fan of the Superforecasting methodology, in which the judgments of many experts are \\nsynthesized into a probability estimate. Overcoming Uncertainty\\nMake a list of plausible scenarios, \\nacknowledging that I don’t know \\nwhich will come to pass.Create a plan of action \\nfor each scenario.\\nStart executing actions \\nthat seem reasonable.Review scenarios and plans \\nperiodically as the future \\ncomes into focus.1 2\\n3 4\\n\\nPAGE 28Using Informational \\nInterviews to Find \\nthe Right JobCHAPTER 8\\nJOBS\\n\\nPAGE 29If you’re preparing to switch roles (say, taking a job as a machine learning engineer for the first \\ntime) or industries (say, working in an AI tech company for the first time), there’s a lot about \\nyour target job that you probably don’t know. A technique known as informational interviewing \\nis a great way to learn.\\nAn informational interview involves finding someone in a company or role you’d like to know \\nmore about and informally interviewing them about their work. Such conversations are separate \\nfrom searching for a job. In fact, it’s helpful to interview people who hold positions that align \\nwith your interests well before you’re ready to kick off a job search.\\nPrepare for informational interviews by researching the interviewee and company in advance, \\nso you can arrive with thoughtful questions. You might ask:Informational interviews are particularly relevant to AI. Because the field is evolving, many \\ncompanies use job titles in inconsistent ways. In one company, data scientists might be \\nexpected mainly to analyze business data and present conclusions on a slide deck. In \\nanother, they might write and maintain production code. An informational interview can help \\nyou sort out what the AI people in a particular company actually do.\\nWith the rapid expansion of opportunities in AI, many people will be taking on an AI job for \\nthe first time. In this case, an informational interview can be invaluable for learning what \\nhappens and what skills are needed to do the job well. For example, you can learn what \\nalgorithms, deployment processes, and software stacks a particular company uses. You \\nmay be surprised — if you’re not already familiar with the data-centric AI movement — to \\nlearn how much time most machine learning engineers spend iteratively cleaning datasets.✓\\n✓\\nWhat do you do in a typical week or day?\\nWhat are the most important tasks in this role?\\nWhat skills are most important for success?\\nHow does your team work together to accomplish its goals?\\nWhat is the hiring process?\\nConsidering candidates who stood out in the past, what enabled them to shine?✓\\n✓\\n✓\\n✓\\n✓\\n✓Using Informational Interviews to Find the Right Job CHAPTER 8'),\n",
       " Document(page_content='PAGE 10This is a lot to learn!\\nEven after you master everything on this list, I hope you’ll keep learning and continue to deepen \\nyour technical knowledge. I’ve known many machine learning engineers who benefitted from \\ndeeper skills in an application area such as natural language processing or computer vision, or in \\na technology area such as probabilistic graphical models or building scalable software systems.\\nHow do you gain these skills? There’s a lot of good content on the internet, and in theory, \\nreading dozens of web pages could work. But when the goal is deep understanding, reading \\ndisjointed web pages is inefficient because they tend to repeat each other, use inconsistent \\nterminology (which slows you down), vary in quality, and leave gaps. That’s why a good course \\n— in which a body of material has been organized into a coherent and logical form — is often the \\nmost time-efficient way to master a meaningful body of knowledge. When you’ve absorbed the \\nknowledge available in courses, you can switch over to research papers and other resources.\\nFinally, no one can cram everything they need to know over a weekend or even a month. Everyone I \\nknow who’s great at machine learning is a lifelong learner. Given how quickly our field is changing, \\nthere’s little choice but to keep learning if you want to keep up.\\nHow can you maintain a steady pace of learning for years? If you can cultivate the habit of \\nlearning a little bit every week, you can make significant progress with what feels like less effort.Learning Technical Skills For a Promising AI Career CHAPTER 2\\n\\nPAGE 11\\nThe Best Way to Build \\na New Habit\\nOne of my favorite books is BJ Fogg’s, Tiny Habits: The Small Changes That Change \\nEverything. Fogg explains that the best way to build a new habit is to start small \\nand succeed, rather than start  too big and fail. For example, rather than trying to \\nexercise for 30 minutes a day, he recommends aspiring to do just one push-up, and \\ndoing it consistently.\\nThis approach may be helpful to those of you who want to spend more time studying. \\nIf you start by holding yourself accountable for watching, say, 10 seconds of an \\neducational video every day — and you do so consistently — the habit of studying daily \\nwill grow naturally. Even if you learn nothing in that 10 seconds, you’re establishing the \\nhabit of studying a little every day. On some days, maybe you’ll end up studying for an \\nhour or longer.\\n\\nPAGE 12Should You \\nLearn Math to \\nGet a Job in AI? CHAPTER 3\\nLEARNING\\n\\nPAGE 13Should you Learn Math to Get a Job in AI? CHAPTER 3\\nIs math a foundational skill for AI? It’s always nice to know more math! But there’s so much to \\nlearn that, realistically, it’s necessary to prioritize. Here’s how you might go about strengthening \\nyour math background.\\nTo figure out what’s important to know, I find it useful to ask what you need to know to make \\nthe decisions required for the work you want to do. At DeepLearning.AI, we frequently ask, \\n“What does someone need to know to accomplish their goals?” The goal might be building a \\nmachine learning model, architecting a system, or passing a job interview.\\nUnderstanding the math behind algorithms you use is often helpful, since it enables you to \\ndebug them. But the depth of knowledge that’s useful changes over time. As machine learning \\ntechniques mature and become more reliable and turnkey, they require less debugging, and a \\nshallower understanding of the math involved may be sufficient to make them work.\\nFor instance, in an earlier era of machine learning, linear algebra libraries for solving linear \\nsystems of equations (for linear regression) were immature. I had to understand how these \\nlibraries worked so I could choose among different libraries and avoid numerical roundoff \\npitfalls. But this became less important as numerical linear algebra libraries matured.\\nDeep learning is still an emerging technology, so when you train a neural network and the \\noptimization algorithm struggles to converge, understanding the math behind gradient \\ndescent, momentum, and the Adam  optimization algorithm will help you make better decisions. \\nSimilarly, if your neural network does something funny — say, it makes bad predictions on \\nimages of a certain resolution, but not others — understanding the math behind neural network \\narchitectures puts you in a better position to figure out what to do.\\nOf course, I also encourage learning driven by curiosity. If something interests you, go ahead \\nand learn it regardless of how useful it might turn out to be!  Maybe this will lead to a creative \\nspark or technical breakthrough.How much math do you need to know to be a machine learning engineer?\\n\\nPAGE 14Scoping Successful \\nAI ProjectsCHAPTER 4\\nPROJECTS\\n\\nPAGE 15One of the most important skills of an AI architect is the ability to identify ideas that are worth \\nworking on. These next few chapters will discuss finding and working on projects so you can gain \\nexperience and build your portfolio. \\nOver the years, I’ve had fun applying machine learning to manufacturing, healthcare, climate \\nchange, agriculture, ecommerce, advertising, and other industries. How can someone who’s not \\nan expert in all these sectors find meaningful projects within them? Here are five steps to help \\nyou scope projects.\\nIdentify a business problem (not an AI problem). I like to find \\na domain expert and ask, “What are the top three things \\nthat you wish worked better? Why aren’t they working yet?” \\nFor example, if you want to apply AI to climate change, you \\nmight discover that power-grid operators can’t accurately \\npredict how much power intermittent sources like wind \\nand solar might generate in the future.\\nBrainstorm AI solutions. When I was younger, I used to \\nexecute on the first idea I was excited about. Sometimes \\nthis worked out okay, but sometimes I ended up missing \\nan even better idea that might not have taken any more \\neffort to build. Once you understand a problem, you can \\nbrainstorm potential solutions more efficiently. For instance, \\nto predict power generation from intermittent sources, we \\nmight consider using satellite imagery to map the locations \\nof wind turbines more accurately, using satellite imagery \\nto estimate the height and generation capacity of wind \\nturbines, or using weather data to better predict cloud cover \\nand thus solar irradiance. Sometimes there isn’t a good AI \\nsolution, and that’s okay too.Scoping Successful AI Projects CHAPTER 4\\nStep 1\\nStep 2\\n\\nPAGE 16Determine milestones. Once you’ve deemed a project sufficiently \\nvaluable, the next step is to determine the metrics to aim for. This \\nincludes both machine learning metrics (such as accuracy) and \\nbusiness metrics (such as revenue). Machine learning teams are often \\nmost comfortable with metrics that a learning algorithm can optimize. \\nBut we may need to stretch outside our comfort zone to come up \\nwith business metrics, such as those related to user engagement, \\nrevenue, and so on. Unfortunately, not every business problem can be \\nreduced to optimizing test set accuracy! If you aren’t able to determine \\nreasonable milestones, it may be a sign that you need to learn more \\nabout the problem. A quick proof of concept can help supply the \\nmissing perspective.Assess the feasibility and value of potential solutions. You can determine \\nwhether an approach is technically feasible by looking at published work, \\nwhat competitors have done, or perhaps building a quick proof of concept \\nimplementation. You can determine its value by consulting with domain \\nexperts (say, power-grid operators, who can advise on the utility of the \\npotential solutions mentioned above).\\nBudget for resources. Think through everything you’ll need to get the \\nproject done including data, personnel, time, and any integrations or \\nsupport you may need from other teams. For example, if you need funds \\nto purchase satellite imagery, make sure that’s in the budget.\\nWorking on projects is an iterative process. If, at any step, you find that the current direction is \\ninfeasible, return to an earlier step and proceed with your new understanding. Is there a domain \\nthat excites you where AI might make a difference? I hope these steps will guide you in exploring it \\nthrough project work — even if you don’t yet have deep expertise in that field. AI won’t solve every \\nproblem, but as a community, let’s look for ways to make a positive impact wherever we can.Scoping Successful AI Projects CHAPTER 4\\nStep 3\\nStep 4\\nStep 5\\n\\nPAGE 17Finding Projects that \\nComplement Your \\nCareer GoalsCHAPTER 5\\nPROJECTS')]"
      ]
     },
     "execution_count": 27,
     "metadata": {},
     "output_type": "execute_result"
    }
   ],
   "source": [
    "result[\"source_documents\"]"
   ]
  },
  {
   "cell_type": "code",
   "execution_count": null,
   "metadata": {
    "id": "TGFjxwzcUb02"
   },
   "outputs": [],
   "source": [
    "template = \"\"\"Use the following pieces of context to answer the question at the end. If you don't know the answer, just say that you don't know, don't try to make up an answer. Keep the answer as concise as possible. Always say \"thanks for asking!\" at the end of the answer.\n",
    "{context}\n",
    "Question: {question}\n",
    "Helpful Answer:\"\"\"\n",
    "QA_CHAIN_PROMPT = PromptTemplate.from_template(template)# Run chain\n",
    "qa_chain = RetrievalQA.from_chain_type(\n",
    "    model,\n",
    "    retriever=vector_index,\n",
    "    return_source_documents=True,\n",
    "    chain_type_kwargs={\"prompt\": QA_CHAIN_PROMPT}\n",
    ")\n"
   ]
  },
  {
   "cell_type": "code",
   "execution_count": null,
   "metadata": {
    "id": "og-CJ7iaMYJe"
   },
   "outputs": [],
   "source": [
    "question = \"Is Math relevant to learn machine learning?\"\n",
    "result = qa_chain({\"query\": question})"
   ]
  },
  {
   "cell_type": "code",
   "execution_count": null,
   "metadata": {
    "colab": {
     "base_uri": "https://localhost:8080/",
     "height": 46
    },
    "id": "BwZpAwFWMbor",
    "outputId": "8663d53f-3f25-4a87-f76e-bc6437e8c866"
   },
   "outputs": [
    {
     "data": {
      "text/markdown": [
       "Yes, math is relevant to learn machine learning. Some key areas include linear algebra, probability and statistics, and calculus. Thanks for asking!"
      ],
      "text/plain": [
       "<IPython.core.display.Markdown object>"
      ]
     },
     "execution_count": 33,
     "metadata": {},
     "output_type": "execute_result"
    }
   ],
   "source": [
    "Markdown(result[\"result\"])"
   ]
  },
  {
   "cell_type": "code",
   "execution_count": null,
   "metadata": {
    "colab": {
     "base_uri": "https://localhost:8080/",
     "height": 46
    },
    "id": "CFNBXo0kJKkA",
    "outputId": "875d1f97-1368-46ce-befc-4143a7b474b4"
   },
   "outputs": [
    {
     "data": {
      "text/markdown": [
       "I'm sorry, but this document does not contain information about Random forest. Therefore, I cannot answer your question. Thanks for asking!"
      ],
      "text/plain": [
       "<IPython.core.display.Markdown object>"
      ]
     },
     "execution_count": 34,
     "metadata": {},
     "output_type": "execute_result"
    }
   ],
   "source": [
    "question = \"Can you describe Random forest?\"\n",
    "result = qa_chain({\"query\": question})\n",
    "Markdown(result[\"result\"])"
   ]
  }
 ],
 "metadata": {
  "accelerator": "GPU",
  "colab": {
   "gpuType": "T4",
   "provenance": []
  },
  "kernelspec": {
   "display_name": "Python 3",
   "name": "python3"
  },
  "language_info": {
   "name": "python"
  }
 },
 "nbformat": 4,
 "nbformat_minor": 0
}
